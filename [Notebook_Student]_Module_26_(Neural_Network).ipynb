{
  "cells": [
    {
      "cell_type": "markdown",
      "metadata": {
        "id": "view-in-github",
        "colab_type": "text"
      },
      "source": [
        "<a href=\"https://colab.research.google.com/github/junhojjangjjangman/NLP/blob/main/%5BNotebook_Student%5D_Module_26_(Neural_Network).ipynb\" target=\"_parent\"><img src=\"https://colab.research.google.com/assets/colab-badge.svg\" alt=\"Open In Colab\"/></a>"
      ]
    },
    {
      "cell_type": "markdown",
      "metadata": {
        "id": "PRQpvoKvlOQX"
      },
      "source": [
        "# 신경망으로 챗봇 만들기"
      ]
    },
    {
      "cell_type": "markdown",
      "metadata": {
        "id": "kwzNWE5OlOQa"
      },
      "source": [
        "이전 노트북에서는 코사인 유사성을 가진 챗봇을 만드는 방법을 배웠습니다. 이제는 신경망을 이용해 어떻게 만들 수 있는지 살펴보겠습니다!\n",
        "\n",
        "훈련 데이터를 만들고 신경망을 훈련시킨 다음 훈련된 모델을 사용하여 챗봇을 만들 것입니다.\n",
        "\n",
        "먼저, 필수 라이브러리를 설치할 것입니다. 라이브러리가 설치되지 않은 경우에만 아래 몇 개의 블록을 주석 해제하십시오."
      ]
    },
    {
      "cell_type": "code",
      "execution_count": null,
      "metadata": {
        "id": "V5PBd03NlOQb"
      },
      "outputs": [],
      "source": [
        "#!pip install numpy scipy\n",
        "#!pip install scikit-learn\n",
        "#!pip install pillow\n",
        "#!pip install h5py"
      ]
    },
    {
      "cell_type": "code",
      "execution_count": null,
      "metadata": {
        "id": "5i6xh6VGlOQc",
        "scrolled": true
      },
      "outputs": [],
      "source": [
        "#!pip install tensorflow"
      ]
    },
    {
      "cell_type": "code",
      "execution_count": null,
      "metadata": {
        "id": "WNA3RSYwlOQc"
      },
      "outputs": [],
      "source": [
        "#!pip install tensorflow-gpu"
      ]
    },
    {
      "cell_type": "code",
      "execution_count": null,
      "metadata": {
        "id": "uxH9sxd5lOQc"
      },
      "outputs": [],
      "source": [
        "#!pip install keras"
      ]
    },
    {
      "cell_type": "markdown",
      "metadata": {
        "id": "qw4Bu81klOQd"
      },
      "source": [
        "# 1. 라이브러리 설치\n",
        "\n",
        "우선 이 신경망 구동 챗봇에 필요한 라이브러리를 설치하겠습니다.\n",
        "Keras는 백엔드에서 텐서플로우(다른 하위 레벨 기계 학습 라이브러리) 를 활용하는 기계 학습 라이브러리입니다. 이렇게 하면 우리의 목적을 위해 심층 신경망을 쉽게 배포할 수 있습니다."
      ]
    },
    {
      "cell_type": "code",
      "execution_count": null,
      "metadata": {
        "id": "2u03sYoTlOQd"
      },
      "outputs": [],
      "source": [
        "from keras.models import Sequential\n",
        "from keras.losses import categorical_crossentropy # 교차 엔트로피 (손실 함수 계산)\n",
        "from keras.optimizers import SGD # 확률적 경사 하강법\n",
        "from keras.layers import Dense\n",
        " \n",
        "from numpy import argmax\n",
        "import numpy as np\n",
        "import re"
      ]
    },
    {
      "cell_type": "markdown",
      "metadata": {
        "id": "A2D2m6GXlOQd"
      },
      "source": [
        "# 2. 입력 훈련 데이터\n",
        "\n",
        "먼저 챗봇에 대한 다음 교육 데이터를 포함하겠습니다.:\n",
        "1. X는 사용자가 입력할 수 있는 다양한 입력을 나타냅니다.\n",
        "2. Y는 입력의 의도를 나타냅니다."
      ]
    },
    {
      "cell_type": "code",
      "execution_count": null,
      "metadata": {
        "id": "aqTPFvQ-lOQe"
      },
      "outputs": [],
      "source": [
        "X = ['Hi',\n",
        "     'Hello',\n",
        "     'How are you?',\n",
        "     'I am making',\n",
        "     'making',\n",
        "     'working',\n",
        "     'studying',\n",
        "     'see you later',\n",
        "     'bye',\n",
        "     'goodbye']"
      ]
    },
    {
      "cell_type": "code",
      "execution_count": null,
      "metadata": {
        "colab": {
          "base_uri": "https://localhost:8080/"
        },
        "id": "U1Mtxg5XlOQe",
        "outputId": "3544823a-3642-43d5-cfa3-15554322ed84"
      },
      "outputs": [
        {
          "name": "stdout",
          "output_type": "stream",
          "text": [
            "10\n"
          ]
        }
      ],
      "source": [
        "print(len(X))"
      ]
    },
    {
      "cell_type": "code",
      "execution_count": null,
      "metadata": {
        "id": "VMIZWeNalOQf"
      },
      "outputs": [],
      "source": [
        "Y = ['greeting',\n",
        "     'greeting',\n",
        "     'greeting',\n",
        "     'busy',\n",
        "     'busy',\n",
        "     'busy',\n",
        "     'busy',\n",
        "     'bye',\n",
        "     'bye',\n",
        "     'bye']"
      ]
    },
    {
      "cell_type": "code",
      "execution_count": null,
      "metadata": {
        "colab": {
          "base_uri": "https://localhost:8080/"
        },
        "id": "mftXeUSXlOQf",
        "outputId": "69f1d9a3-df31-4dd4-abde-60b858ead7c5"
      },
      "outputs": [
        {
          "name": "stdout",
          "output_type": "stream",
          "text": [
            "10\n"
          ]
        }
      ],
      "source": [
        "print(len(Y))"
      ]
    },
    {
      "cell_type": "markdown",
      "metadata": {
        "id": "m517gvQNlOQf"
      },
      "source": [
        "비슷한 의도를 가진 여러 개의 다른 문장들이 있다는 것을 주목하십시오. 여기에서는 3개의 의도(greeting, busy, bye)만 있지만 프로젝트에 원하는 만큼 추가할 수 있습니다."
      ]
    },
    {
      "cell_type": "markdown",
      "metadata": {
        "id": "r3I2ggYJlOQf"
      },
      "source": [
        "이것은 챗봇이 작동하는 방식입니다:\n",
        "1. 입력 문장으로부터, 우리는 훈련된 AI 모델을 사용하여 의도를 확인할 것이다.\n",
        "2. 각 의도에 대해, 우리는 준비 된 응답을 가지고있다.\n",
        "\n",
        "예를 들어, 입력의 의도가 인사말에 대한 것임을 확인하면 챗봇에 '안녕하세요'또는 '어떻게 지내십니까?'와 같은 인사말로 응답하도록 요청할 수 있습니다.\n",
        "\n",
        "우리는 기계 학습을 사용하여 입력 문장을 다른 의도로 분류 할 수있는 모델을 만들 것입니다. \n",
        "다음과 같이 만듭니다:\n",
        "\n",
        "1. 문장과 그 의도에 대한 목록을 포함하고 있는 훈련 데이터(위의 X및  Y)를 작성한다.\n",
        "2. 훈련 데이터를 사용하여 분류기를 훈련한다. \n",
        "3. 입력 문장을 벡터화하고 분류기를 사용하여 의도를 결정한다. "
      ]
    },
    {
      "cell_type": "markdown",
      "metadata": {
        "id": "4KyrezYGlOQg"
      },
      "source": [
        "# 3. 텍스트 처리\n",
        "\n",
        "평소와 같이 텍스트 처리부터 시작합니다. 그 과정을 기억하십니까?\n",
        "\n",
        "## 3.1 알파벳과 숫자가 아닌 문자 제거"
      ]
    },
    {
      "cell_type": "code",
      "execution_count": null,
      "metadata": {
        "id": "Dp04JLw7lOQg"
      },
      "outputs": [],
      "source": [
        "def remove_non_alpha_numeric_characters(sentence):\n",
        "    new_sentence = ''\n",
        "    for alphabet in sentence:\n",
        "        if alphabet.isalpha() or alphabet == ' ':\n",
        "            new_sentence += alphabet\n",
        "    return new_sentence"
      ]
    },
    {
      "cell_type": "code",
      "execution_count": null,
      "metadata": {
        "id": "FI6DlgsOlOQg"
      },
      "outputs": [],
      "source": [
        "def preprocess_data(X):\n",
        "    X = [data_point.lower() for data_point in X]\n",
        "    X = [remove_non_alpha_numeric_characters(\n",
        "        sentence) for sentence in X]\n",
        "    X = [data_point.strip() for data_point in X] # strip() 특정 문자열 제거\n",
        "    X = [re.sub(' +', ' ',\n",
        "                data_point) for data_point in X]\n",
        "    return X"
      ]
    },
    {
      "cell_type": "code",
      "execution_count": null,
      "metadata": {
        "colab": {
          "base_uri": "https://localhost:8080/"
        },
        "id": "uBKdfejUlOQg",
        "outputId": "ce79000f-dc41-4c38-8d6f-0a827ebd8636"
      },
      "outputs": [
        {
          "name": "stdout",
          "output_type": "stream",
          "text": [
            "['hi', 'hello', 'how are you', 'i am making', 'making', 'working', 'studying', 'see you later', 'bye', 'goodbye']\n"
          ]
        }
      ],
      "source": [
        "X = preprocess_data(X)\n",
        "print(X)\n",
        "vocabulary = set() # 중복된 값 외에 유일한 값만 출력\n",
        "for data_point in X:\n",
        "    for word in data_point.split(' '):\n",
        "        vocabulary.add(word)\n",
        "\n",
        "vocabulary = list(vocabulary)"
      ]
    },
    {
      "cell_type": "code",
      "execution_count": null,
      "metadata": {
        "colab": {
          "base_uri": "https://localhost:8080/"
        },
        "id": "3aWZgvLqma7Y",
        "outputId": "da146863-cb68-4472-ec79-979a41c1a12e"
      },
      "outputs": [
        {
          "name": "stdout",
          "output_type": "stream",
          "text": [
            "['i', 'goodbye', 'you', 'am', 'hello', 'hi', 'are', 'later', 'see', 'making', 'bye', 'studying', 'working', 'how']\n"
          ]
        }
      ],
      "source": [
        "print(vocabulary)"
      ]
    },
    {
      "cell_type": "markdown",
      "metadata": {
        "id": "agDcn_ztlOQj"
      },
      "source": [
        "## 문서 벡터 생성"
      ]
    },
    {
      "cell_type": "code",
      "execution_count": null,
      "metadata": {
        "colab": {
          "base_uri": "https://localhost:8080/"
        },
        "id": "rW6ayqidlOQj",
        "outputId": "588ec720-895b-475b-a351-27e7ab7a3e0e"
      },
      "outputs": [
        {
          "name": "stdout",
          "output_type": "stream",
          "text": [
            "hi\n",
            "hello\n",
            "how are you\n",
            "i am making\n",
            "making\n",
            "working\n",
            "studying\n",
            "see you later\n",
            "bye\n",
            "goodbye\n"
          ]
        }
      ],
      "source": [
        "X_encoded = []\n",
        "def encode_sentence(sentence):\n",
        "    sentence = preprocess_data([sentence])[0]\n",
        "    print(sentence)\n",
        "    sentence_encoded = [0] * len(vocabulary)\n",
        "    for i in range(len(vocabulary)):\n",
        "        \n",
        "        if vocabulary[i] in sentence.split(' '):\n",
        "            \n",
        "            sentence_encoded[i] = 1\n",
        "    return sentence_encoded\n",
        "\n",
        "X_encoded = [encode_sentence(sentence) for sentence in X]"
      ]
    },
    {
      "cell_type": "code",
      "execution_count": null,
      "metadata": {
        "colab": {
          "base_uri": "https://localhost:8080/"
        },
        "id": "NDTXI0sMnWxP",
        "outputId": "2f67eab0-1554-4a13-cf86-df4e089fa18e"
      },
      "outputs": [
        {
          "data": {
            "text/plain": [
              "[[0, 0, 0, 0, 0, 1, 0, 0, 0, 0, 0, 0, 0, 0],\n",
              " [0, 0, 0, 0, 1, 0, 0, 0, 0, 0, 0, 0, 0, 0],\n",
              " [0, 0, 1, 0, 0, 0, 1, 0, 0, 0, 0, 0, 0, 1],\n",
              " [1, 0, 0, 1, 0, 0, 0, 0, 0, 1, 0, 0, 0, 0],\n",
              " [0, 0, 0, 0, 0, 0, 0, 0, 0, 1, 0, 0, 0, 0],\n",
              " [0, 0, 0, 0, 0, 0, 0, 0, 0, 0, 0, 0, 1, 0],\n",
              " [0, 0, 0, 0, 0, 0, 0, 0, 0, 0, 0, 1, 0, 0],\n",
              " [0, 0, 1, 0, 0, 0, 0, 1, 1, 0, 0, 0, 0, 0],\n",
              " [0, 0, 0, 0, 0, 0, 0, 0, 0, 0, 1, 0, 0, 0],\n",
              " [0, 1, 0, 0, 0, 0, 0, 0, 0, 0, 0, 0, 0, 0]]"
            ]
          },
          "execution_count": 15,
          "metadata": {},
          "output_type": "execute_result"
        }
      ],
      "source": [
        "X_encoded"
      ]
    },
    {
      "cell_type": "code",
      "execution_count": null,
      "metadata": {
        "id": "H3bNf3RvlOQj"
      },
      "outputs": [],
      "source": [
        "classes = list(set(Y))\n",
        "\n",
        "Y_encoded = []\n",
        "for data_point in Y:\n",
        "    data_point_encoded = [0] * len(classes)\n",
        "    for i in range(len(classes)):\n",
        "        if classes[i] == data_point:\n",
        "            data_point_encoded[i] = 1\n",
        "    Y_encoded.append(data_point_encoded)"
      ]
    },
    {
      "cell_type": "code",
      "execution_count": null,
      "metadata": {
        "colab": {
          "base_uri": "https://localhost:8080/"
        },
        "id": "N7jZ4InYoFLY",
        "outputId": "71da0761-5d90-4058-cc21-e8a000cc80ad"
      },
      "outputs": [
        {
          "data": {
            "text/plain": [
              "[[1, 0, 0],\n",
              " [1, 0, 0],\n",
              " [1, 0, 0],\n",
              " [0, 0, 1],\n",
              " [0, 0, 1],\n",
              " [0, 0, 1],\n",
              " [0, 0, 1],\n",
              " [0, 1, 0],\n",
              " [0, 1, 0],\n",
              " [0, 1, 0]]"
            ]
          },
          "execution_count": 17,
          "metadata": {},
          "output_type": "execute_result"
        }
      ],
      "source": [
        "Y_encoded"
      ]
    },
    {
      "cell_type": "markdown",
      "metadata": {
        "id": "9AT8jJFLlOQj"
      },
      "source": [
        "# 4. 훈련 데이터 및 테스트 데이터 생성"
      ]
    },
    {
      "cell_type": "code",
      "execution_count": null,
      "metadata": {
        "id": "1aC0uwPPlOQj"
      },
      "outputs": [],
      "source": [
        "X_train = X_encoded\n",
        "y_train = Y_encoded\n",
        "X_test = X_encoded\n",
        "y_test = Y_encoded"
      ]
    },
    {
      "cell_type": "markdown",
      "metadata": {
        "id": "2Vz_saC5lOQj"
      },
      "source": [
        "훈련 및 테스트 데이터에 사용하는 데이터 출력 및 확인"
      ]
    },
    {
      "cell_type": "code",
      "execution_count": null,
      "metadata": {
        "colab": {
          "base_uri": "https://localhost:8080/"
        },
        "id": "A1zT715SlOQk",
        "outputId": "de732a5f-9798-4e2c-87ff-fae315d01cd2"
      },
      "outputs": [
        {
          "name": "stdout",
          "output_type": "stream",
          "text": [
            "[[1, 0, 0], [1, 0, 0], [1, 0, 0], [0, 0, 1], [0, 0, 1], [0, 0, 1], [0, 0, 1], [0, 1, 0], [0, 1, 0], [0, 1, 0]]\n"
          ]
        }
      ],
      "source": [
        "print (y_test)"
      ]
    },
    {
      "cell_type": "code",
      "execution_count": null,
      "metadata": {
        "colab": {
          "base_uri": "https://localhost:8080/"
        },
        "id": "MrlCY4Y0lOQk",
        "outputId": "8c559b77-db62-430c-f60a-093001fa651d"
      },
      "outputs": [
        {
          "name": "stdout",
          "output_type": "stream",
          "text": [
            "10\n"
          ]
        }
      ],
      "source": [
        "print(len(X_train))"
      ]
    },
    {
      "cell_type": "code",
      "execution_count": null,
      "metadata": {
        "colab": {
          "base_uri": "https://localhost:8080/"
        },
        "id": "NC1MbudflOQk",
        "outputId": "5394d79b-a864-4d66-e2c9-fe633f3eb44d",
        "scrolled": true
      },
      "outputs": [
        {
          "data": {
            "text/plain": [
              "[[1, 0, 0],\n",
              " [1, 0, 0],\n",
              " [1, 0, 0],\n",
              " [0, 0, 1],\n",
              " [0, 0, 1],\n",
              " [0, 0, 1],\n",
              " [0, 0, 1],\n",
              " [0, 1, 0],\n",
              " [0, 1, 0],\n",
              " [0, 1, 0]]"
            ]
          },
          "execution_count": 21,
          "metadata": {},
          "output_type": "execute_result"
        }
      ],
      "source": [
        "y_train"
      ]
    },
    {
      "cell_type": "markdown",
      "metadata": {
        "id": "myIiGbUdlOQk"
      },
      "source": [
        "y_train은 무엇을 의미합니까? 위에 표시된 배열을 이해합니까?"
      ]
    },
    {
      "cell_type": "markdown",
      "metadata": {
        "id": "-Uti-RgYlOQk"
      },
      "source": [
        "# 5. 모델 훈련"
      ]
    },
    {
      "cell_type": "markdown",
      "metadata": {
        "id": "7gXGxpPPlOQk"
      },
      "source": [
        "이제 훈련 데이터를 이용해 신경망을 훈련시키겠습니다."
      ]
    },
    {
      "cell_type": "code",
      "execution_count": null,
      "metadata": {
        "colab": {
          "base_uri": "https://localhost:8080/"
        },
        "id": "w-NHSScflOQk",
        "outputId": "62d82861-ff3c-4840-deb7-852afdcd2718"
      },
      "outputs": [
        {
          "name": "stdout",
          "output_type": "stream",
          "text": [
            "Epoch 1/100\n"
          ]
        },
        {
          "name": "stderr",
          "output_type": "stream",
          "text": [
            "/usr/local/lib/python3.7/dist-packages/keras/optimizers/optimizer_v2/gradient_descent.py:108: UserWarning: The `lr` argument is deprecated, use `learning_rate` instead.\n",
            "  super(SGD, self).__init__(name, **kwargs)\n"
          ]
        },
        {
          "name": "stdout",
          "output_type": "stream",
          "text": [
            "1/1 [==============================] - 0s 428ms/step - loss: 1.1724\n",
            "Epoch 2/100\n",
            "1/1 [==============================] - 0s 13ms/step - loss: 1.1602\n",
            "Epoch 3/100\n",
            "1/1 [==============================] - 0s 7ms/step - loss: 1.1457\n",
            "Epoch 4/100\n",
            "1/1 [==============================] - 0s 7ms/step - loss: 1.1313\n",
            "Epoch 5/100\n",
            "1/1 [==============================] - 0s 12ms/step - loss: 1.1190\n",
            "Epoch 6/100\n",
            "1/1 [==============================] - 0s 7ms/step - loss: 1.1096\n",
            "Epoch 7/100\n",
            "1/1 [==============================] - 0s 8ms/step - loss: 1.1035\n",
            "Epoch 8/100\n",
            "1/1 [==============================] - 0s 23ms/step - loss: 1.1003\n",
            "Epoch 9/100\n",
            "1/1 [==============================] - 0s 13ms/step - loss: 1.0992\n",
            "Epoch 10/100\n",
            "1/1 [==============================] - 0s 24ms/step - loss: 1.0994\n",
            "Epoch 11/100\n",
            "1/1 [==============================] - 0s 14ms/step - loss: 1.1000\n",
            "Epoch 12/100\n",
            "1/1 [==============================] - 0s 17ms/step - loss: 1.1003\n",
            "Epoch 13/100\n",
            "1/1 [==============================] - 0s 19ms/step - loss: 1.0997\n",
            "Epoch 14/100\n",
            "1/1 [==============================] - 0s 15ms/step - loss: 1.0983\n",
            "Epoch 15/100\n",
            "1/1 [==============================] - 0s 15ms/step - loss: 1.0960\n",
            "Epoch 16/100\n",
            "1/1 [==============================] - 0s 14ms/step - loss: 1.0930\n",
            "Epoch 17/100\n",
            "1/1 [==============================] - 0s 14ms/step - loss: 1.0897\n",
            "Epoch 18/100\n",
            "1/1 [==============================] - 0s 14ms/step - loss: 1.0862\n",
            "Epoch 19/100\n",
            "1/1 [==============================] - 0s 11ms/step - loss: 1.0830\n",
            "Epoch 20/100\n",
            "1/1 [==============================] - 0s 10ms/step - loss: 1.0801\n",
            "Epoch 21/100\n",
            "1/1 [==============================] - 0s 10ms/step - loss: 1.0775\n",
            "Epoch 22/100\n",
            "1/1 [==============================] - 0s 18ms/step - loss: 1.0752\n",
            "Epoch 23/100\n",
            "1/1 [==============================] - 0s 20ms/step - loss: 1.0733\n",
            "Epoch 24/100\n",
            "1/1 [==============================] - 0s 17ms/step - loss: 1.0714\n",
            "Epoch 25/100\n",
            "1/1 [==============================] - 0s 8ms/step - loss: 1.0696\n",
            "Epoch 26/100\n",
            "1/1 [==============================] - 0s 10ms/step - loss: 1.0678\n",
            "Epoch 27/100\n",
            "1/1 [==============================] - 0s 13ms/step - loss: 1.0659\n",
            "Epoch 28/100\n",
            "1/1 [==============================] - 0s 11ms/step - loss: 1.0638\n",
            "Epoch 29/100\n",
            "1/1 [==============================] - 0s 9ms/step - loss: 1.0617\n",
            "Epoch 30/100\n",
            "1/1 [==============================] - 0s 21ms/step - loss: 1.0595\n",
            "Epoch 31/100\n",
            "1/1 [==============================] - 0s 12ms/step - loss: 1.0573\n",
            "Epoch 32/100\n",
            "1/1 [==============================] - 0s 21ms/step - loss: 1.0550\n",
            "Epoch 33/100\n",
            "1/1 [==============================] - 0s 22ms/step - loss: 1.0528\n",
            "Epoch 34/100\n",
            "1/1 [==============================] - 0s 16ms/step - loss: 1.0506\n",
            "Epoch 35/100\n",
            "1/1 [==============================] - 0s 13ms/step - loss: 1.0484\n",
            "Epoch 36/100\n",
            "1/1 [==============================] - 0s 18ms/step - loss: 1.0463\n",
            "Epoch 37/100\n",
            "1/1 [==============================] - 0s 12ms/step - loss: 1.0442\n",
            "Epoch 38/100\n",
            "1/1 [==============================] - 0s 11ms/step - loss: 1.0421\n",
            "Epoch 39/100\n",
            "1/1 [==============================] - 0s 10ms/step - loss: 1.0400\n",
            "Epoch 40/100\n",
            "1/1 [==============================] - 0s 11ms/step - loss: 1.0379\n",
            "Epoch 41/100\n",
            "1/1 [==============================] - 0s 10ms/step - loss: 1.0358\n",
            "Epoch 42/100\n",
            "1/1 [==============================] - 0s 11ms/step - loss: 1.0337\n",
            "Epoch 43/100\n",
            "1/1 [==============================] - 0s 9ms/step - loss: 1.0316\n",
            "Epoch 44/100\n",
            "1/1 [==============================] - 0s 10ms/step - loss: 1.0295\n",
            "Epoch 45/100\n",
            "1/1 [==============================] - 0s 10ms/step - loss: 1.0273\n",
            "Epoch 46/100\n",
            "1/1 [==============================] - 0s 12ms/step - loss: 1.0252\n",
            "Epoch 47/100\n",
            "1/1 [==============================] - 0s 9ms/step - loss: 1.0231\n",
            "Epoch 48/100\n",
            "1/1 [==============================] - 0s 11ms/step - loss: 1.0209\n",
            "Epoch 49/100\n",
            "1/1 [==============================] - 0s 13ms/step - loss: 1.0188\n",
            "Epoch 50/100\n",
            "1/1 [==============================] - 0s 10ms/step - loss: 1.0167\n",
            "Epoch 51/100\n",
            "1/1 [==============================] - 0s 28ms/step - loss: 1.0146\n",
            "Epoch 52/100\n",
            "1/1 [==============================] - 0s 9ms/step - loss: 1.0125\n",
            "Epoch 53/100\n",
            "1/1 [==============================] - 0s 16ms/step - loss: 1.0103\n",
            "Epoch 54/100\n",
            "1/1 [==============================] - 0s 13ms/step - loss: 1.0082\n",
            "Epoch 55/100\n",
            "1/1 [==============================] - 0s 11ms/step - loss: 1.0061\n",
            "Epoch 56/100\n",
            "1/1 [==============================] - 0s 12ms/step - loss: 1.0040\n",
            "Epoch 57/100\n",
            "1/1 [==============================] - 0s 8ms/step - loss: 1.0018\n",
            "Epoch 58/100\n",
            "1/1 [==============================] - 0s 16ms/step - loss: 0.9997\n",
            "Epoch 59/100\n",
            "1/1 [==============================] - 0s 12ms/step - loss: 0.9976\n",
            "Epoch 60/100\n",
            "1/1 [==============================] - 0s 10ms/step - loss: 0.9954\n",
            "Epoch 61/100\n",
            "1/1 [==============================] - 0s 11ms/step - loss: 0.9933\n",
            "Epoch 62/100\n",
            "1/1 [==============================] - 0s 10ms/step - loss: 0.9912\n",
            "Epoch 63/100\n",
            "1/1 [==============================] - 0s 11ms/step - loss: 0.9890\n",
            "Epoch 64/100\n",
            "1/1 [==============================] - 0s 11ms/step - loss: 0.9869\n",
            "Epoch 65/100\n",
            "1/1 [==============================] - 0s 15ms/step - loss: 0.9847\n",
            "Epoch 66/100\n",
            "1/1 [==============================] - 0s 11ms/step - loss: 0.9826\n",
            "Epoch 67/100\n",
            "1/1 [==============================] - 0s 12ms/step - loss: 0.9804\n",
            "Epoch 68/100\n",
            "1/1 [==============================] - 0s 14ms/step - loss: 0.9783\n",
            "Epoch 69/100\n",
            "1/1 [==============================] - 0s 10ms/step - loss: 0.9761\n",
            "Epoch 70/100\n",
            "1/1 [==============================] - 0s 15ms/step - loss: 0.9740\n",
            "Epoch 71/100\n",
            "1/1 [==============================] - 0s 19ms/step - loss: 0.9718\n",
            "Epoch 72/100\n",
            "1/1 [==============================] - 0s 15ms/step - loss: 0.9696\n",
            "Epoch 73/100\n",
            "1/1 [==============================] - 0s 21ms/step - loss: 0.9675\n",
            "Epoch 74/100\n",
            "1/1 [==============================] - 0s 12ms/step - loss: 0.9653\n",
            "Epoch 75/100\n",
            "1/1 [==============================] - 0s 16ms/step - loss: 0.9631\n",
            "Epoch 76/100\n",
            "1/1 [==============================] - 0s 12ms/step - loss: 0.9609\n",
            "Epoch 77/100\n",
            "1/1 [==============================] - 0s 13ms/step - loss: 0.9588\n",
            "Epoch 78/100\n",
            "1/1 [==============================] - 0s 11ms/step - loss: 0.9566\n",
            "Epoch 79/100\n",
            "1/1 [==============================] - 0s 17ms/step - loss: 0.9544\n",
            "Epoch 80/100\n",
            "1/1 [==============================] - 0s 12ms/step - loss: 0.9522\n",
            "Epoch 81/100\n",
            "1/1 [==============================] - 0s 18ms/step - loss: 0.9500\n",
            "Epoch 82/100\n",
            "1/1 [==============================] - 0s 25ms/step - loss: 0.9478\n",
            "Epoch 83/100\n",
            "1/1 [==============================] - 0s 17ms/step - loss: 0.9456\n",
            "Epoch 84/100\n",
            "1/1 [==============================] - 0s 21ms/step - loss: 0.9434\n",
            "Epoch 85/100\n",
            "1/1 [==============================] - 0s 13ms/step - loss: 0.9411\n",
            "Epoch 86/100\n",
            "1/1 [==============================] - 0s 11ms/step - loss: 0.9389\n",
            "Epoch 87/100\n",
            "1/1 [==============================] - 0s 11ms/step - loss: 0.9367\n",
            "Epoch 88/100\n",
            "1/1 [==============================] - 0s 13ms/step - loss: 0.9345\n",
            "Epoch 89/100\n",
            "1/1 [==============================] - 0s 17ms/step - loss: 0.9322\n",
            "Epoch 90/100\n",
            "1/1 [==============================] - 0s 14ms/step - loss: 0.9300\n",
            "Epoch 91/100\n",
            "1/1 [==============================] - 0s 13ms/step - loss: 0.9277\n",
            "Epoch 92/100\n",
            "1/1 [==============================] - 0s 21ms/step - loss: 0.9255\n",
            "Epoch 93/100\n",
            "1/1 [==============================] - 0s 17ms/step - loss: 0.9232\n",
            "Epoch 94/100\n",
            "1/1 [==============================] - 0s 10ms/step - loss: 0.9210\n",
            "Epoch 95/100\n",
            "1/1 [==============================] - 0s 8ms/step - loss: 0.9187\n",
            "Epoch 96/100\n",
            "1/1 [==============================] - 0s 14ms/step - loss: 0.9164\n",
            "Epoch 97/100\n",
            "1/1 [==============================] - 0s 9ms/step - loss: 0.9141\n",
            "Epoch 98/100\n",
            "1/1 [==============================] - 0s 16ms/step - loss: 0.9119\n",
            "Epoch 99/100\n",
            "1/1 [==============================] - 0s 10ms/step - loss: 0.9096\n",
            "Epoch 100/100\n",
            "1/1 [==============================] - 0s 9ms/step - loss: 0.9073\n"
          ]
        },
        {
          "data": {
            "text/plain": [
              "<keras.callbacks.History at 0x7f7b549dda90>"
            ]
          },
          "execution_count": 22,
          "metadata": {},
          "output_type": "execute_result"
        }
      ],
      "source": [
        "model = Sequential()\n",
        "model.add(Dense(units=64, activation='sigmoid',\n",
        "                input_dim=len(X_train[0])))\n",
        "model.add(Dense(units=len(y_train[0]), activation='softmax'))\n",
        "model.compile(loss=categorical_crossentropy,\n",
        "              optimizer=SGD(lr=0.01,\n",
        "                            momentum=0.9, nesterov=True))\n",
        "model.fit(np.array(X_train), np.array(y_train), epochs=100, batch_size=16)"
      ]
    },
    {
      "cell_type": "markdown",
      "metadata": {
        "id": "kYWHka5ZlOQl"
      },
      "source": [
        "## 예측 목록 표시"
      ]
    },
    {
      "cell_type": "code",
      "execution_count": null,
      "metadata": {
        "colab": {
          "base_uri": "https://localhost:8080/"
        },
        "id": "1Cj9WjAOlOQl",
        "outputId": "ef5769db-d9d4-4989-a2b5-945c3566dc7a"
      },
      "outputs": [
        {
          "name": "stdout",
          "output_type": "stream",
          "text": [
            "1/1 [==============================] - 0s 161ms/step\n"
          ]
        }
      ],
      "source": [
        "predictions = [argmax(pred) for pred in model.predict(np.array(X_test))]"
      ]
    },
    {
      "cell_type": "markdown",
      "metadata": {
        "id": "aBQKyNbnlOQl"
      },
      "source": [
        "# 모델 평가"
      ]
    },
    {
      "cell_type": "markdown",
      "metadata": {
        "id": "EZ88JQ8tlOQl"
      },
      "source": [
        "이제 모델을 평가해 봅시다. 모델에 의한 예측과 테스트 데이터를 비교할 것입니다:"
      ]
    },
    {
      "cell_type": "code",
      "execution_count": null,
      "metadata": {
        "colab": {
          "base_uri": "https://localhost:8080/"
        },
        "id": "fDHrlR6LlOQl",
        "outputId": "0086748c-0cce-4060-c3d3-3feec3b2d181"
      },
      "outputs": [
        {
          "name": "stdout",
          "output_type": "stream",
          "text": [
            "Correct: 6\n",
            "Total: 10\n"
          ]
        }
      ],
      "source": [
        "correct = 0\n",
        "for i in range(len(predictions)):\n",
        "    if predictions[i] == argmax(y_test[i]):\n",
        "        correct += 1\n",
        "\n",
        "print (\"Correct:\", correct)\n",
        "print (\"Total:\", len(predictions))"
      ]
    },
    {
      "cell_type": "markdown",
      "metadata": {
        "id": "FJ3AtBrTlOQl"
      },
      "source": [
        "# 챗봇 테스트"
      ]
    },
    {
      "cell_type": "markdown",
      "metadata": {
        "id": "iENWvC3tlOQl"
      },
      "source": [
        "이제 챗봇을 테스트해 보겠습니다! 문장을 입력한 다음 신경망에서 예측되는 클래스를 확인합니다:"
      ]
    },
    {
      "cell_type": "code",
      "execution_count": null,
      "metadata": {
        "colab": {
          "background_save": true,
          "base_uri": "https://localhost:8080/"
        },
        "id": "-ymfJm_SlOQl",
        "scrolled": true,
        "outputId": "d560fa0b-c246-4ea2-b05b-0b7c40bf71c9"
      },
      "outputs": [
        {
          "name": "stdout",
          "output_type": "stream",
          "text": [
            "Enter a sentence\n"
          ]
        }
      ],
      "source": [
        "while True:\n",
        "    print (\"Enter a sentence\")\n",
        "    sentence = input()\n",
        "    if sentence == 'q':\n",
        "      break;\n",
        "    prediction= model.predict(np.array([encode_sentence(sentence)]))\n",
        "    print (classes[argmax(prediction)])"
      ]
    },
    {
      "cell_type": "markdown",
      "metadata": {
        "id": "61Lf0UvIlOQm"
      },
      "source": [
        "챗봇을 멈출 수 없다는 것을 알고 있습니까? 나중에 종료 명령을 추가해야 합니다(이전 노트를 참조하여 수행 방법을 확인하십시오.).\n",
        "\n",
        "일단은 위의 중지 버튼(인터럽트 버튼)을 눌러서 챗봇을 중지하면 됩니다.\n",
        "\n",
        "시도해 보세요. 정지 버튼을 누르고 상자에 뭔가를 입력해 보세요."
      ]
    },
    {
      "cell_type": "markdown",
      "metadata": {
        "id": "PfEnH6sHlOQm"
      },
      "source": [
        "# 도전과제\n",
        "\n",
        "우리는 성공적으로 대화 의도에 우리의 입력을 매핑하는 신경망을 사용했습니다. \n",
        "여러분의 과제는 대화 의도를 챗봇이 말하는 특정 응답과 연결하는 것입니다. \n",
        "예를 들어, 만약 대화의 목적이 '인사' 라면, 여러분의 챗봇도 인사말을 하도록 하세요!"
      ]
    },
    {
      "cell_type": "code",
      "execution_count": null,
      "metadata": {
        "id": "H-ytMTvKlOQm"
      },
      "outputs": [],
      "source": [
        "# your code here\n",
        "while True:\n",
        "    print (\"Enter a sentence\")\n",
        "    sentence = input()\n",
        "    if sentence == 'q':\n",
        "      break;\n",
        "    prediction= model.predict(np.array([encode_sentence(sentence)]))\n",
        "    if classes[argmax(prediction)] == \"bye\":\n",
        "      classes[argmax(prediction)] = \"good bye\";\n",
        "    elif classes[argmax(prediction)] == \"busy\":\n",
        "      classes[argmax(prediction)] = \"All the best!\"\n",
        "    else:\n",
        "      classes[argmax(prediction)] = \"Hi!\"\n",
        "    print (classes[argmax(prediction)])"
      ]
    },
    {
      "cell_type": "markdown",
      "metadata": {
        "id": "DiXrnZB2lOQm"
      },
      "source": [
        "### 잘했습니다! 신경망으로 간단한 챗봇을 성공적으로 만들었습니다! 챗봇을 어떻게 개선할 수 있을까요?\n",
        "다음과 같은 방법으로 챗봇을 개선할 수 있습니다:\n",
        "- 더 많은 교육 데이터 추가\n",
        "- 더 많은 의도 추가\n",
        "- 특정 주제에 초점을 맞추고 해당 주제에 많은 훈련 데이터로 챗봇 교육"
      ]
    },
    {
      "cell_type": "markdown",
      "metadata": {
        "id": "D_e6NoemlOQm"
      },
      "source": [
        "### 출처:\n",
        "https://blog.eduonix.com/internet-of-things/simple-nlp-based-chatbot-python/"
      ]
    }
  ],
  "metadata": {
    "colab": {
      "provenance": [],
      "include_colab_link": true
    },
    "kernelspec": {
      "display_name": "Python 3 (ipykernel)",
      "language": "python",
      "name": "python3"
    },
    "language_info": {
      "codemirror_mode": {
        "name": "ipython",
        "version": 3
      },
      "file_extension": ".py",
      "mimetype": "text/x-python",
      "name": "python",
      "nbconvert_exporter": "python",
      "pygments_lexer": "ipython3",
      "version": "3.9.6"
    }
  },
  "nbformat": 4,
  "nbformat_minor": 0
}