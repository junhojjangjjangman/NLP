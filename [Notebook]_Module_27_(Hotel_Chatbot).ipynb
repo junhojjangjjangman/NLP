{
  "cells": [
    {
      "cell_type": "markdown",
      "metadata": {
        "id": "view-in-github",
        "colab_type": "text"
      },
      "source": [
        "<a href=\"https://colab.research.google.com/github/junhojjangjjangman/NLP/blob/main/%5BNotebook%5D_Module_27_(Hotel_Chatbot).ipynb\" target=\"_parent\"><img src=\"https://colab.research.google.com/assets/colab-badge.svg\" alt=\"Open In Colab\"/></a>"
      ]
    },
    {
      "cell_type": "markdown",
      "metadata": {
        "id": "faUojVtgaTGc"
      },
      "source": [
        "# 호텔 챗봇\n",
        "\n",
        "이 노트북에서는 호텔 챗봇 문제를 다룹니다. 어떻게 하면 호텔 프론트 데스크에서 더 나은 고객 서비스를 제공할 수 있을까요? 간단한 방법 중 하나는 호텔에서 경험할 수 있는 일들에 관한 간단한 질문에 대답할 수 있는 FAQ 채팅 로봇을 갖는 것입니다. 챗봇을 갖는 것에는 많은 장점이 있습니다.\n",
        "\n",
        "1. 호텔의 매력을 높이고 정보 처리량을 늘립니다.\n",
        "2. 호텔에 대한 질문을 데이터 테이블 형식으로 수집할 수 있는 방법을 만듭니다.\n",
        "\n",
        "이 노트북에서는 두 가지 모델을 살펴볼 것입니다. 코사인 유사성 및 doc2vec 모델입니다.\n"
      ]
    },
    {
      "cell_type": "markdown",
      "metadata": {
        "id": "pNceALtVaTGc"
      },
      "source": [
        "## 1. 챗봇에 지식 기반 추가\n",
        "\n",
        "챗봇의 대화 능력은 사용할 수 있는 데이터에 의해 정의됩니다. Ques.txt 파일과 ans.txt 파일에서 질문과 답변을 살펴보십시오. 이 챗봇은 기본적으로 질문에 대하여 질문 은행과 코사인 유사성을 확인하여 답을 찾으려고 노력할 것입니다."
      ]
    },
    {
      "cell_type": "code",
      "source": [
        "from google.colab import drive\n",
        "drive.mount('/content/drive')"
      ],
      "metadata": {
        "colab": {
          "base_uri": "https://localhost:8080/"
        },
        "id": "SzqCsjtDAY39",
        "outputId": "9398b491-3a1f-4a11-d847-077d74997c20"
      },
      "execution_count": null,
      "outputs": [
        {
          "output_type": "stream",
          "name": "stdout",
          "text": [
            "Mounted at /content/drive\n"
          ]
        }
      ]
    },
    {
      "cell_type": "code",
      "execution_count": null,
      "metadata": {
        "id": "e__0bwBTaTGd"
      },
      "outputs": [],
      "source": [
        "import nltk # 텍스트 데이터를 처리\n",
        "import numpy as np # 말뭉치를 배열로 표현\n",
        "import random \n",
        "import operator\n",
        "import string # 표준 파이썬 문자열을 처리\n",
        "from sklearn.metrics.pairwise import cosine_similarity # 이를 나중에 사용하여 두 개의 문장이 얼마나 비슷한지를 결정합니다.\n",
        "from sklearn.feature_extraction.text import TfidfVectorizer # Experience 2에서 단어 가방을 만드는 함수를 만들었던 것을 기억하십니까? 이 함수는 같은 일을 합니다!"
      ]
    },
    {
      "cell_type": "code",
      "execution_count": null,
      "metadata": {
        "id": "R08PteSZaTGd",
        "colab": {
          "base_uri": "https://localhost:8080/"
        },
        "outputId": "d840ab31-bc24-46c7-ab1e-bf366319bdbd"
      },
      "outputs": [
        {
          "output_type": "stream",
          "name": "stdout",
          "text": [
            "200$ per night is the price for a basic suite.\n",
            "\n",
            "This establishment was constructed and inaugurated by John S. on the 23rd of September 1965.\n",
            "\n",
            "Breakfast is served from 7 AM to 10 AM.\n",
            "\n",
            "The breakfast menu is decided as per the head chefs decision on the night before; kindly contact hotel staff for information about the menu on the night before. \n",
            "\n",
            "The Vance Hotel is a singular establishment designed and constructed by Lindsey Vance in 1949; it has hosted many dignitaries and government officials over the years.\n",
            "\n",
            "There are 43 rooms in this hotel including one pent house suite.\n",
            "\n",
            "We offer 4 types of rooms: basic, mid-level, premium and penthouse.\n",
            "\n",
            "This hotel is called Vance Hotel.\n",
            "\n",
            "Yes, room service is available 24 hrs.\n",
            "\n",
            "To call room service, please dial '0' using the phone in your room.\n",
            "\n",
            "Yes we have one restaurant currently called 'Rouge'.\n",
            "\n",
            "There are 12 floors in the hotel.\n",
            "\n",
            "300$ per night is the standard price for a mid-level suite.\n",
            "\n",
            "500$ per night is the price for a premium suite.\n",
            "\n",
            "Yes, we have tuxedo services available at the reception.\n",
            "\n",
            "Yes, we have a laundry service at the reception.\n",
            "\n",
            "'Rouge' is open for dinner at 7pm.\n",
            "\n",
            "There is a waterfall 200 meters east from the hotel, and we offer taxi services for such destinations and more.\n",
            "\n",
            "Yes, we do have a spa; however, it is closed from 7pm onwards.\n",
            "\n",
            "Yes, we do have massage packages inside our hotel.\n",
            "\n",
            "Check in is at anytime between 10am and 1pm.\n",
            "\n",
            "Check out is at anytime between 4pm and 6pm.\n",
            "\n",
            "Yes, we do.\n",
            "\n",
            "Yes.\n",
            "\n",
            "For parking lot reservations, there is a surcharge depending on fixed rates; please ask at the reception for more information.\n",
            "\n",
            "Our reception is open 24 hours.\n",
            "\n",
            "No, you cannot book breakfast online.\n",
            "\n",
            "No, you cannot book the spa online.\n",
            "\n",
            "No, you cannot book that online.\n",
            "\n",
            "Yes, we do have the facilities to take care of pets and support them.\n",
            "\n",
            "Rates are per room.\n",
            "\n",
            "The rates may vary as per availability and demand.\n",
            "\n",
            "Yes.\n",
            "\n",
            "Yes.\n",
            "\n",
            "Yes.\n",
            "\n",
            "There are 4 main sizes available:  basic, mid-level, premium and penthouse.\n",
            "\n",
            "Yes, for table reservations please contact the reception through the phone.\n",
            "\n",
            "Yes, we do.\n",
            "\n",
            "We do not have child special rooms but we do have cribs available through a surcharge.\n",
            "\n",
            "Yes.\n",
            "\n",
            "Yes.\n",
            "\n",
            "Yes, we do have a shuttle service and taxi service.\n",
            "\n",
            "Yes.\n",
            "\n",
            "Yes, we do try our best to provide quality services to you; if there is any other requests, kindly contact the staff.\n",
            "\n",
            "Check at the reception.\n",
            "\n",
            "You can check it out on your online booking reservation.\n",
            "\n",
            "Contact the reception through phone so that they may attempt to retrieve the item.\n",
            "What is the price of one night stay in basic suite?\n",
            "\n",
            "How old is this establishment?\n",
            "\n",
            "What time is breakfast served?\n",
            "\n",
            "What is the breakfast menu?\n",
            "\n",
            "What is the history behind this hotel or establishment?\n",
            "\n",
            "How many rooms are there in this hotel?\n",
            "\n",
            "What are the types of rooms or suites offered by the hotel?\n",
            "\n",
            "What is the name of the hotel?\n",
            "\n",
            "Is room service served 24 hours?\n",
            "\n",
            "How do I call for room service?\n",
            "\n",
            "Are there any restaurants in the hotel?\n",
            "\n",
            "How many floors are there in the hotel?\n",
            "\n",
            "What is the price of one night stay at the mid-level suite?\n",
            "\n",
            "What is the price of one night stay at the premium suite?\n",
            "\n",
            "Do you have tuxedo services?\n",
            "\n",
            "Do you have a laundry service?\n",
            "\n",
            "What time do the restaurants open for dinner?\n",
            "\n",
            "What are the near by tourist attractions?\n",
            "\n",
            "Is there a spa in the hotel?\n",
            "\n",
            "Is there anywhere I can get a massage?\n",
            "\n",
            "What time is the check in?\n",
            "\n",
            "What time is the check out?\n",
            "\n",
            "Do you offer handicapped rooms?\n",
            "\n",
            "Is parking available at the hotel?\n",
            "\n",
            "Can I reserve a parking lot?\n",
            "\n",
            "What are the reception opening hours?\n",
            "\n",
            "Can I also book breakfast online and what is the cost?\n",
            "\n",
            "Is it possible to book spa treatments online?\n",
            "\n",
            "Can I book tea time online?\n",
            "\n",
            "Can I bring my pet?\n",
            "\n",
            "Are the rates per person or per room?\n",
            "\n",
            "Why do the costs vary from day to day?\n",
            "\n",
            "Can I book two rooms of different categories?\n",
            "\n",
            "Can I book two rooms with different occupancy?\n",
            "\n",
            "Is Wi-Fi available at the hotel/in the room?\n",
            "\n",
            "Which size are the rooms?\n",
            "\n",
            "Can I reserve a table in a restaurant?\n",
            "\n",
            "Do you offer non-smoking rooms?\n",
            "\n",
            "Do you offer child rates?\n",
            "\n",
            "Can I use the spa area even if I am not staying in your hotel?\n",
            "\n",
            "Can I use the spa area after checking out?\n",
            "\n",
            "Do you offer hotel shuttles, for example, to the next airport or train station?\n",
            "\n",
            "Can I have breakfast/dinner even if I am not staying in your hotel?\n",
            "\n",
            "Are special requests, such as gluten-free meals or feather-free pillows, manageable?\n",
            "\n",
            "I have bought a Groupon-voucher, how can I redeem it in your hotel?\n",
            "\n",
            "Where can I get a copy of my invoice after departure?\n",
            "\n",
            "What should I do, if I lost or forgot something in my room?\n",
            "\n",
            "\n"
          ]
        }
      ],
      "source": [
        "import os\n",
        "# os.getcwd() 현재 파일의 경로를 나타냄\n",
        "# string에 +로 연결해서 사용 가능\n",
        "filepath='/content/drive/MyDrive/Colab Notebooks/주피터/모듈 27/[Dataset] Module27 (ans).txt'\n",
        "corpus=open(filepath,'r',errors = 'ignore')\n",
        "raw_data_ans=corpus.read()\n",
        "print (raw_data_ans)\n",
        "filepath='/content/drive/MyDrive/Colab Notebooks/주피터/모듈 27/[Dataset] Module27(ques).txt'\n",
        "corpus=open(filepath,'r',errors = 'ignore')\n",
        "raw_data=corpus.read()\n",
        "print (raw_data)"
      ]
    },
    {
      "cell_type": "markdown",
      "metadata": {
        "id": "3lJ5dsOvaTGo"
      },
      "source": [
        "####  소문자로 변환\n",
        "\n",
        "모든 텍스트를 먼저 소문자로 변환합니다. 결과가 완료되면 검사해야 합니다."
      ]
    },
    {
      "cell_type": "code",
      "execution_count": null,
      "metadata": {
        "id": "KdWMJwPfaTGo",
        "colab": {
          "base_uri": "https://localhost:8080/"
        },
        "outputId": "73b2005a-434f-47e4-88b6-28c7342cfc5c"
      },
      "outputs": [
        {
          "output_type": "stream",
          "name": "stdout",
          "text": [
            "what is the price of one night stay in basic suite?\n",
            "\n",
            "how old is this establishment?\n",
            "\n",
            "what time is breakfast served?\n",
            "\n",
            "what is the breakfast menu?\n",
            "\n",
            "what is the history behind this hotel or establishment?\n",
            "\n",
            "how many rooms are there in this hotel?\n",
            "\n",
            "what are the types of rooms or suites offered by the hotel?\n",
            "\n",
            "what is the name of the hotel?\n",
            "\n",
            "is room service served 24 hours?\n",
            "\n",
            "how do i call for room service?\n",
            "\n",
            "are there any restaurants in the hotel?\n",
            "\n",
            "how many floors are there in the hotel?\n",
            "\n",
            "what is the price of one night stay at the mid-level suite?\n",
            "\n",
            "what is the price of one night stay at the premium suite?\n",
            "\n",
            "do you have tuxedo services?\n",
            "\n",
            "do you have a laundry service?\n",
            "\n",
            "what time do the restaurants open for dinner?\n",
            "\n",
            "what are the near by tourist attractions?\n",
            "\n",
            "is there a spa in the hotel?\n",
            "\n",
            "is there anywhere i can get a massage?\n",
            "\n",
            "what time is the check in?\n",
            "\n",
            "what time is the check out?\n",
            "\n",
            "do you offer handicapped rooms?\n",
            "\n",
            "is parking available at the hotel?\n",
            "\n",
            "can i reserve a parking lot?\n",
            "\n",
            "what are the reception opening hours?\n",
            "\n",
            "can i also book breakfast online and what is the cost?\n",
            "\n",
            "is it possible to book spa treatments online?\n",
            "\n",
            "can i book tea time online?\n",
            "\n",
            "can i bring my pet?\n",
            "\n",
            "are the rates per person or per room?\n",
            "\n",
            "why do the costs vary from day to day?\n",
            "\n",
            "can i book two rooms of different categories?\n",
            "\n",
            "can i book two rooms with different occupancy?\n",
            "\n",
            "is wi-fi available at the hotel/in the room?\n",
            "\n",
            "which size are the rooms?\n",
            "\n",
            "can i reserve a table in a restaurant?\n",
            "\n",
            "do you offer non-smoking rooms?\n",
            "\n",
            "do you offer child rates?\n",
            "\n",
            "can i use the spa area even if i am not staying in your hotel?\n",
            "\n",
            "can i use the spa area after checking out?\n",
            "\n",
            "do you offer hotel shuttles, for example, to the next airport or train station?\n",
            "\n",
            "can i have breakfast/dinner even if i am not staying in your hotel?\n",
            "\n",
            "are special requests, such as gluten-free meals or feather-free pillows, manageable?\n",
            "\n",
            "i have bought a groupon-voucher, how can i redeem it in your hotel?\n",
            "\n",
            "where can i get a copy of my invoice after departure?\n",
            "\n",
            "what should i do, if i lost or forgot something in my room?\n",
            "\n",
            "\n"
          ]
        }
      ],
      "source": [
        "raw_data=raw_data.lower() # 소문자로 변환\n",
        "print (raw_data)"
      ]
    },
    {
      "cell_type": "markdown",
      "metadata": {
        "id": "t729o2v7aTGp"
      },
      "source": [
        "####  세분화, 표제어 추출,  단어 토큰화\n",
        "\n",
        "모듈 26 코사인 유사성 노트북에서 배운 방법을 참조하여 데이터를 세분화, 토큰화, 표제어 추출로 전처리 진행합니다."
      ]
    },
    {
      "cell_type": "code",
      "execution_count": null,
      "metadata": {
        "colab": {
          "base_uri": "https://localhost:8080/"
        },
        "id": "bd6adnm0aTGp",
        "outputId": "dea0d9e8-ef9d-4101-d600-5e557258e478"
      },
      "outputs": [
        {
          "output_type": "stream",
          "name": "stderr",
          "text": [
            "[nltk_data] Downloading package punkt to /root/nltk_data...\n",
            "[nltk_data]   Unzipping tokenizers/punkt.zip.\n"
          ]
        },
        {
          "output_type": "stream",
          "name": "stdout",
          "text": [
            "['what is the price of one night stay in basic suite?', 'how old is this establishment?', 'what time is breakfast served?', 'what is the breakfast menu?', 'what is the history behind this hotel or establishment?', 'how many rooms are there in this hotel?', 'what are the types of rooms or suites offered by the hotel?', 'what is the name of the hotel?', 'is room service served 24 hours?', 'how do i call for room service?', 'are there any restaurants in the hotel?', 'how many floors are there in the hotel?', 'what is the price of one night stay at the mid-level suite?', 'what is the price of one night stay at the premium suite?', 'do you have tuxedo services?', 'do you have a laundry service?', 'what time do the restaurants open for dinner?', 'what are the near by tourist attractions?', 'is there a spa in the hotel?', 'is there anywhere i can get a massage?', 'what time is the check in?', 'what time is the check out?', 'do you offer handicapped rooms?', 'is parking available at the hotel?', 'can i reserve a parking lot?', 'what are the reception opening hours?', 'can i also book breakfast online and what is the cost?', 'is it possible to book spa treatments online?', 'can i book tea time online?', 'can i bring my pet?', 'are the rates per person or per room?', 'why do the costs vary from day to day?', 'can i book two rooms of different categories?', 'can i book two rooms with different occupancy?', 'is wi-fi available at the hotel/in the room?', 'which size are the rooms?', 'can i reserve a table in a restaurant?', 'do you offer non-smoking rooms?', 'do you offer child rates?', 'can i use the spa area even if i am not staying in your hotel?', 'can i use the spa area after checking out?', 'do you offer hotel shuttles, for example, to the next airport or train station?', 'can i have breakfast/dinner even if i am not staying in your hotel?', 'are special requests, such as gluten-free meals or feather-free pillows, manageable?', 'i have bought a groupon-voucher, how can i redeem it in your hotel?', 'where can i get a copy of my invoice after departure?', 'what should i do, if i lost or forgot something in my room?']\n"
          ]
        },
        {
          "output_type": "stream",
          "name": "stderr",
          "text": [
            "[nltk_data] Downloading package wordnet to /root/nltk_data...\n"
          ]
        }
      ],
      "source": [
        "import nltk\n",
        "nltk.download('punkt')\n",
        "nltk.download('wordnet')\n",
        "sent_tokens = nltk.sent_tokenize(raw_data)# 문서를 문장 목록으로 변환\n",
        "\n",
        "print(sent_tokens)"
      ]
    },
    {
      "cell_type": "code",
      "execution_count": null,
      "metadata": {
        "colab": {
          "base_uri": "https://localhost:8080/"
        },
        "id": "RRuhV6wnaTGp",
        "outputId": "d978133f-794d-48bc-d86f-887cb1f34274"
      },
      "outputs": [
        {
          "output_type": "stream",
          "name": "stdout",
          "text": [
            "['200$ per night is the price for a basic suite.', 'This establishment was constructed and inaugurated by John S. on the 23rd of September 1965.', 'Breakfast is served from 7 AM to 10 AM.', 'The breakfast menu is decided as per the head chefs decision on the night before; kindly contact hotel staff for information about the menu on the night before.', 'The Vance Hotel is a singular establishment designed and constructed by Lindsey Vance in 1949; it has hosted many dignitaries and government officials over the years.', 'There are 43 rooms in this hotel including one pent house suite.', 'We offer 4 types of rooms: basic, mid-level, premium and penthouse.', 'This hotel is called Vance Hotel.', 'Yes, room service is available 24 hrs.', \"To call room service, please dial '0' using the phone in your room.\", \"Yes we have one restaurant currently called 'Rouge'.\", 'There are 12 floors in the hotel.', '300$ per night is the standard price for a mid-level suite.', '500$ per night is the price for a premium suite.', 'Yes, we have tuxedo services available at the reception.', 'Yes, we have a laundry service at the reception.', \"'Rouge' is open for dinner at 7pm.\", 'There is a waterfall 200 meters east from the hotel, and we offer taxi services for such destinations and more.', 'Yes, we do have a spa; however, it is closed from 7pm onwards.', 'Yes, we do have massage packages inside our hotel.', 'Check in is at anytime between 10am and 1pm.', 'Check out is at anytime between 4pm and 6pm.', 'Yes, we do.', 'Yes.', 'For parking lot reservations, there is a surcharge depending on fixed rates; please ask at the reception for more information.', 'Our reception is open 24 hours.', 'No, you cannot book breakfast online.', 'No, you cannot book the spa online.', 'No, you cannot book that online.', 'Yes, we do have the facilities to take care of pets and support them.', 'Rates are per room.', 'The rates may vary as per availability and demand.', 'Yes.', 'Yes.', 'Yes.', 'There are 4 main sizes available:  basic, mid-level, premium and penthouse.', 'Yes, for table reservations please contact the reception through the phone.', 'Yes, we do.', 'We do not have child special rooms but we do have cribs available through a surcharge.', 'Yes.', 'Yes.', 'Yes, we do have a shuttle service and taxi service.', 'Yes.', 'Yes, we do try our best to provide quality services to you; if there is any other requests, kindly contact the staff.', 'Check at the reception.', 'You can check it out on your online booking reservation.', 'Contact the reception through phone so that they may attempt to retrieve the item.']\n"
          ]
        }
      ],
      "source": [
        "sent_tokens_ans = nltk.sent_tokenize(raw_data_ans)# 문서를 문장 목록으로 변환\n",
        "print(sent_tokens_ans)"
      ]
    },
    {
      "cell_type": "code",
      "execution_count": null,
      "metadata": {
        "id": "h6JFAfDRaTGp"
      },
      "outputs": [],
      "source": [
        "res = {sent_tokens[i]: sent_tokens_ans[i] for i in range(len(sent_tokens))} \n",
        "res"
      ]
    },
    {
      "cell_type": "code",
      "execution_count": null,
      "metadata": {
        "colab": {
          "base_uri": "https://localhost:8080/"
        },
        "id": "LYI2uuyTaTGq",
        "outputId": "42b0fd11-d38e-4726-9ce0-caa3f906f56f"
      },
      "outputs": [
        {
          "output_type": "stream",
          "name": "stdout",
          "text": [
            "['what', 'is', 'the', 'price', 'of', 'one', 'night', 'stay', 'in', 'basic', 'suite', '?', 'how', 'old', 'is', 'this', 'establishment', '?', 'what', 'time', 'is', 'breakfast', 'served', '?', 'what', 'is', 'the', 'breakfast', 'menu', '?', 'what', 'is', 'the', 'history', 'behind', 'this', 'hotel', 'or', 'establishment', '?', 'how', 'many', 'rooms', 'are', 'there', 'in', 'this', 'hotel', '?', 'what', 'are', 'the', 'types', 'of', 'rooms', 'or', 'suites', 'offered', 'by', 'the', 'hotel', '?', 'what', 'is', 'the', 'name', 'of', 'the', 'hotel', '?', 'is', 'room', 'service', 'served', '24', 'hours', '?', 'how', 'do', 'i', 'call', 'for', 'room', 'service', '?', 'are', 'there', 'any', 'restaurants', 'in', 'the', 'hotel', '?', 'how', 'many', 'floors', 'are', 'there', 'in', 'the', 'hotel', '?', 'what', 'is', 'the', 'price', 'of', 'one', 'night', 'stay', 'at', 'the', 'mid-level', 'suite', '?', 'what', 'is', 'the', 'price', 'of', 'one', 'night', 'stay', 'at', 'the', 'premium', 'suite', '?', 'do', 'you', 'have', 'tuxedo', 'services', '?', 'do', 'you', 'have', 'a', 'laundry', 'service', '?', 'what', 'time', 'do', 'the', 'restaurants', 'open', 'for', 'dinner', '?', 'what', 'are', 'the', 'near', 'by', 'tourist', 'attractions', '?', 'is', 'there', 'a', 'spa', 'in', 'the', 'hotel', '?', 'is', 'there', 'anywhere', 'i', 'can', 'get', 'a', 'massage', '?', 'what', 'time', 'is', 'the', 'check', 'in', '?', 'what', 'time', 'is', 'the', 'check', 'out', '?', 'do', 'you', 'offer', 'handicapped', 'rooms', '?', 'is', 'parking', 'available', 'at', 'the', 'hotel', '?', 'can', 'i', 'reserve', 'a', 'parking', 'lot', '?', 'what', 'are', 'the', 'reception', 'opening', 'hours', '?', 'can', 'i', 'also', 'book', 'breakfast', 'online', 'and', 'what', 'is', 'the', 'cost', '?', 'is', 'it', 'possible', 'to', 'book', 'spa', 'treatments', 'online', '?', 'can', 'i', 'book', 'tea', 'time', 'online', '?', 'can', 'i', 'bring', 'my', 'pet', '?', 'are', 'the', 'rates', 'per', 'person', 'or', 'per', 'room', '?', 'why', 'do', 'the', 'costs', 'vary', 'from', 'day', 'to', 'day', '?', 'can', 'i', 'book', 'two', 'rooms', 'of', 'different', 'categories', '?', 'can', 'i', 'book', 'two', 'rooms', 'with', 'different', 'occupancy', '?', 'is', 'wi-fi', 'available', 'at', 'the', 'hotel/in', 'the', 'room', '?', 'which', 'size', 'are', 'the', 'rooms', '?', 'can', 'i', 'reserve', 'a', 'table', 'in', 'a', 'restaurant', '?', 'do', 'you', 'offer', 'non-smoking', 'rooms', '?', 'do', 'you', 'offer', 'child', 'rates', '?', 'can', 'i', 'use', 'the', 'spa', 'area', 'even', 'if', 'i', 'am', 'not', 'staying', 'in', 'your', 'hotel', '?', 'can', 'i', 'use', 'the', 'spa', 'area', 'after', 'checking', 'out', '?', 'do', 'you', 'offer', 'hotel', 'shuttles', ',', 'for', 'example', ',', 'to', 'the', 'next', 'airport', 'or', 'train', 'station', '?', 'can', 'i', 'have', 'breakfast/dinner', 'even', 'if', 'i', 'am', 'not', 'staying', 'in', 'your', 'hotel', '?', 'are', 'special', 'requests', ',', 'such', 'as', 'gluten-free', 'meals', 'or', 'feather-free', 'pillows', ',', 'manageable', '?', 'i', 'have', 'bought', 'a', 'groupon-voucher', ',', 'how', 'can', 'i', 'redeem', 'it', 'in', 'your', 'hotel', '?', 'where', 'can', 'i', 'get', 'a', 'copy', 'of', 'my', 'invoice', 'after', 'departure', '?', 'what', 'should', 'i', 'do', ',', 'if', 'i', 'lost', 'or', 'forgot', 'something', 'in', 'my', 'room', '?']\n"
          ]
        }
      ],
      "source": [
        "word_tokens = nltk.word_tokenize(raw_data)# 문서를 단어 목록으로 변환\n",
        "#질문을 단어 단위로 토큰화 하여 저장\n",
        "print (word_tokens)\n"
      ]
    },
    {
      "cell_type": "code",
      "execution_count": null,
      "metadata": {
        "id": "-7sg_IsiaTGq"
      },
      "outputs": [],
      "source": [
        "lemmer = nltk.stem.WordNetLemmatizer() # lemmer 클래스를 초기화합니다. WordNet은 NLTK에 포함된 의미 론적 영어 사전입니다\n",
        "def LemTokens(tokens):\n",
        "    return [lemmer.lemmatize(token) for token in tokens]"
      ]
    },
    {
      "cell_type": "code",
      "execution_count": null,
      "metadata": {
        "id": "tNpTcnZQaTGq"
      },
      "outputs": [],
      "source": [
        "remove_punct_dict = dict((ord(punct), None) for punct in string.punctuation)\n",
        "def LemNormalize(text):\n",
        "    return LemTokens(nltk.word_tokenize(text.lower().translate(remove_punct_dict))) "
      ]
    },
    {
      "cell_type": "markdown",
      "metadata": {
        "id": "8yBNkjCkaTGq"
      },
      "source": [
        "## 2. 챗봇 기능 추가 - 코사인 유사성"
      ]
    },
    {
      "cell_type": "code",
      "execution_count": null,
      "metadata": {
        "id": "YKToF6tBaTGq"
      },
      "outputs": [],
      "source": [
        "GREETING_INPUTS = [\"hello\", \"hi\", \"greetings\", \"sup\", \"what's up\",\"hey\", \"hey there\"]\n",
        "GREETING_RESPONSES = [\"hi\", \"hey\", \"*nods*\", \"hi there\", \"hello\", \"I am glad! You are talking to me\"]\n",
        "\n",
        "def greeting(sentence):\n",
        "    for word in sentence.split(): # 문장의 각 단어를 살펴봅니다.\n",
        "        if word.lower() in GREETING_INPUTS: # 단어가 GREETING_INPUT와 일치하는지 확인합니다.\n",
        "            return random.choice(GREETING_RESPONSES) # Greeting_Response로 답장합니다."
      ]
    },
    {
      "cell_type": "markdown",
      "metadata": {
        "id": "OG8J9Y4haTGq"
      },
      "source": [
        "챗봇의 기능은 챗봇을 실행하기 위한 루프를 만듦으로써 이루어집니다. 아래 기능을 살펴봅니다. 함수의 각 줄은 중요한 단계를 수행하기 위해 다른 함수를 호출하기 때문에 중요합니다. 'response' 함수는 챗봇이 어떻게 행동하는지에 대한 작동 방식을 담당합니다."
      ]
    },
    {
      "cell_type": "code",
      "execution_count": null,
      "metadata": {
        "id": "ljpdA9lXaTGq"
      },
      "outputs": [],
      "source": [
        "def response(user_response):\n",
        "    \n",
        "    robo_response='' # 문자열을 포함하도록 변수를 초기화\n",
        "    sent_tokens.append(user_response) # sent_messages에 사용자 응답 추가\n",
        "    TfidfVec = TfidfVectorizer(tokenizer=LemNormalize, stop_words='english') \n",
        "    tfidf = TfidfVec.fit_transform(sent_tokens) # tfidf 값 가져오기\n",
        "    vals = cosine_similarity(tfidf[-1], tfidf) # 코사인 유사성 값 가져오기\n",
        "    idx=vals.argsort()[0][-2] \n",
        "    flat = vals.flatten() \n",
        "    flat.sort() # 오름차순으로 정렬\n",
        "    req_tfidf = flat[-2] \n",
        "    \n",
        "    if(req_tfidf==0):\n",
        "        robo_response=robo_response+\"I am sorry! I don't understand you\"\n",
        "        return robo_response, vals\n",
        "    else:\n",
        "        robo_response = robo_response+res[sent_tokens[idx]]\n",
        "        return robo_response, vals"
      ]
    },
    {
      "cell_type": "markdown",
      "metadata": {
        "id": "MObdf0DbaTGq"
      },
      "source": [
        "마지막으로 챗봇 인터페이스를 만들고 이를 중심으로 페르소나를 만들어 봅시다. 우리가 챗봇을 '제인'이라고 부르고 코사인 유사성을 사용하여 질문과 유사한 FAQ를 찾아 대답하도록 합시다."
      ]
    },
    {
      "cell_type": "code",
      "execution_count": null,
      "metadata": {
        "colab": {
          "base_uri": "https://localhost:8080/"
        },
        "id": "kAhwDtRAaTGr",
        "outputId": "a189d9b9-b5a9-472a-bcd2-0d1c3ec54cf0"
      },
      "outputs": [
        {
          "name": "stdout",
          "output_type": "stream",
          "text": [
            "Jane: My name is Jane. I will answer your queries about this hotel. If you want to exit, type Bye!\n",
            "bye\n",
            "Jane: Bye! take care..\n"
          ]
        }
      ],
      "source": [
        "\n",
        "flag=True\n",
        "print(\"Jane: My name is Jane. I will answer your queries about this hotel. If you want to exit, type Bye!\")\n",
        "while(flag==True):\n",
        "    user_response = input()\n",
        "    user_response=user_response.lower()\n",
        "    if(user_response!='bye'):\n",
        "        if(user_response=='thanks' or user_response=='thank you' ):\n",
        "            flag=False\n",
        "            print(\"Jane: You are welcome..\")\n",
        "        else:\n",
        "            if(greeting(user_response)!=None):\n",
        "                print(\"Jane: \"+greeting(user_response))\n",
        "\n",
        "            else:\n",
        "                print(\"Jane: \",end=\"\")\n",
        "                resp= response(user_response)\n",
        "                print(resp[0], )\n",
        "                sent_tokens.remove(user_response)\n",
        "                resp_l = resp[1].tolist()\n",
        "                resp_l[0].pop()\n",
        "                print(' (With similarity of ',max(resp_l[0]),')')\n",
        "\n",
        "    else:\n",
        "        flag=False\n",
        "        print(\"Jane: Bye! take care..\")\n",
        "       "
      ]
    },
    {
      "cell_type": "markdown",
      "metadata": {
        "id": "ti57IhXEaTGr"
      },
      "source": [
        "## 3. Doc2vec를 이용한 챗봇 기능\n",
        "\n",
        "챗봇을 만들기 위한 한 가지 유형의 모델을 더 다룰 것입니다. 코사인 유사성 모델 알고리즘은 두 문장 사이의 유사성을 찾는데 사용됩니다. 하지만 이제 신경망을 사용해서 이 문제를 해결해 보려합니다. 살펴보도록 하겠습니다.\n",
        "\n",
        "Doc2Vec은 기본적으로 문서에서 벡터를 생성하는 신경망 기반 모델입니다. Doc2vec을 이해하기 위해서는 word2vec도 이해해야 합니다.\n",
        "\n",
        "#### word2vec란?\n",
        "이는 삽입 단어를 생성하는 모델이며, 여기서는 텍스트의 큰 말뭉치를 입력으로 받고 일반적으로 수백 개 차원의 벡터 공간을 생성합니다. \n",
        "\n",
        "2013년 9월과 10월 사이에 구글의 연구팀에 의해 두 개의 논문에 소개되었습니다. Word2Vec의 기본 가정은 유사한 맥락을 공유하는 두 단어가 유사한 의미를 공유하며 결과적으로 모델에서 유사한 벡터 표현을 공유한다는 것입니다.\n",
        "\n",
        "예를 들어, \"은행\", \"화폐\", \"계좌\"는 \"달러\", \"대출\", \"신용\"과 같은 유사한 주변 단어와 함께 종종 사용되며, 따라서 Word2Vec에 따르면 이들은 유사한 벡터 표현을 공유합니다.\n",
        "\n",
        "![Image](img1.png)"
      ]
    },
    {
      "cell_type": "markdown",
      "metadata": {
        "id": "ajt10YajaTGr"
      },
      "source": [
        "#### doc2vec 란?\n",
        "\n",
        "doc2vec의 목적은 말뭉치의 모든 단어에 대한 특징 벡터를 계산하는 word2vec와 달리 문장/단락/문서의 수치 표현을 생성하는 것입니다. doc2vec은 말뭉치의 모든 문서에 대한 특징 벡터를 계산합니다. doc2vec에 의해 생성된 벡터는 문장/단락/문서 간의 유사성 찾기와 같은 작업에 사용될 수 있습니다.\n",
        "\n",
        "<strong> doc2vec의 속성을 사용하여 우리만의 유사성 모델을 만들 것입니다.</strong>\n"
      ]
    },
    {
      "cell_type": "markdown",
      "metadata": {
        "id": "4rz_EMVtaTGr"
      },
      "source": [
        "관련 라이브러리를 가져오는 것으로 시작하겠습니다."
      ]
    },
    {
      "cell_type": "code",
      "execution_count": null,
      "metadata": {
        "colab": {
          "base_uri": "https://localhost:8080/"
        },
        "id": "ItqcrhJpa8nd",
        "outputId": "2348a912-2fd5-4eda-fbf7-02dd45e96220"
      },
      "outputs": [
        {
          "name": "stderr",
          "output_type": "stream",
          "text": [
            "DEPRECATION: Configuring installation scheme with distutils config files is deprecated and will no longer work in the near future. If you are using a Homebrew or Linuxbrew Python, please see discussion at https://github.com/Homebrew/homebrew-core/issues/76621\n"
          ]
        },
        {
          "name": "stdout",
          "output_type": "stream",
          "text": [
            "Collecting gensim==3.8.1\n",
            "  Downloading gensim-3.8.1.tar.gz (23.4 MB)\n",
            "  Preparing metadata (setup.py): started\n",
            "  Preparing metadata (setup.py): finished with status 'done'\n",
            "Requirement already satisfied: numpy>=1.11.3 in /usr/local/lib/python3.9/site-packages (from gensim==3.8.1) (1.19.5)\n",
            "Requirement already satisfied: scipy>=0.18.1 in /usr/local/lib/python3.9/site-packages (from gensim==3.8.1) (1.7.1)\n",
            "Requirement already satisfied: six>=1.5.0 in /usr/local/lib/python3.9/site-packages (from gensim==3.8.1) (1.15.0)\n",
            "Collecting smart_open>=1.8.1\n",
            "  Downloading smart_open-5.2.1-py3-none-any.whl (58 kB)\n",
            "Building wheels for collected packages: gensim\n",
            "  Building wheel for gensim (setup.py): started\n",
            "  Building wheel for gensim (setup.py): finished with status 'done'\n",
            "  Created wheel for gensim: filename=gensim-3.8.1-cp39-cp39-macosx_11_0_x86_64.whl size=23720060 sha256=4a21126d6d00f187edf69df762ae9161659ca5c596b6115ec25dc6fb80e91e4b\n",
            "  Stored in directory: /Users/tiger/Library/Caches/pip/wheels/fe/77/24/b3ffc86119703277a8aeb0e6914e97e216b1bd45287e41d6ba\n",
            "Successfully built gensim\n",
            "Installing collected packages: smart-open, gensim\n"
          ]
        },
        {
          "name": "stderr",
          "output_type": "stream",
          "text": [
            "  DEPRECATION: Configuring installation scheme with distutils config files is deprecated and will no longer work in the near future. If you are using a Homebrew or Linuxbrew Python, please see discussion at https://github.com/Homebrew/homebrew-core/issues/76621\n"
          ]
        },
        {
          "name": "stdout",
          "output_type": "stream",
          "text": [
            "Successfully installed gensim-3.8.1 smart-open-5.2.1\n"
          ]
        },
        {
          "name": "stderr",
          "output_type": "stream",
          "text": [
            "DEPRECATION: Configuring installation scheme with distutils config files is deprecated and will no longer work in the near future. If you are using a Homebrew or Linuxbrew Python, please see discussion at https://github.com/Homebrew/homebrew-core/issues/76621\n",
            "WARNING: You are using pip version 21.3.1; however, version 22.0.3 is available.\n",
            "You should consider upgrading via the '/usr/local/opt/python@3.9/bin/python3.9 -m pip install --upgrade pip' command.\n"
          ]
        },
        {
          "data": {
            "text/plain": [
              "0"
            ]
          },
          "execution_count": 19,
          "metadata": {},
          "output_type": "execute_result"
        }
      ],
      "source": [
        "import subprocess\n",
        "import sys\n",
        "subprocess.check_call([sys.executable, \"-m\", \"pip\", \"install\", \"gensim == 3.8.1\"])"
      ]
    },
    {
      "cell_type": "code",
      "execution_count": null,
      "metadata": {
        "id": "u0uEPI3haTGs"
      },
      "outputs": [],
      "source": [
        "from gensim.models.doc2vec import Doc2Vec, TaggedDocument\n",
        "from nltk.tokenize import word_tokenize"
      ]
    },
    {
      "cell_type": "markdown",
      "metadata": {
        "id": "jCN-DoefaTGs"
      },
      "source": [
        "첫 번째 주요 목표는 데이터에 태그를 지정하는 것입니다. doc2vec 모델은 데이터를 효과적으로 사용하기 위해 태그를 지정해야 합니다. 다음은 doc2vec에 대한 [시작 코드](https://www.kaggle.com/fmitchell259/creating-a-doc2vec-model) 좋은 학습 링크입니다. 다음 [링크](https://medium.com/wisio/a-gentle-introduction-to-doc2vec-db3e8c0cce5e) 도 유용하게 사용할 수 있으며 읽을 것을 권장합니다."
      ]
    },
    {
      "cell_type": "code",
      "execution_count": null,
      "metadata": {
        "id": "kXe558qcaTGs"
      },
      "outputs": [],
      "source": [
        "tagged_data = [TaggedDocument(words=word_tokenize(_d.lower()), tags=[str(i)]) for i, _d in enumerate(sent_tokens)]"
      ]
    },
    {
      "cell_type": "code",
      "execution_count": null,
      "metadata": {
        "id": "dfTTPFpQaTGs"
      },
      "outputs": [],
      "source": [
        "max_epochs = 100\n",
        "vec_size = 20 # 벡터가 더 크려면 이것을 증가시키세요. 이것은 더 많은 차이를 의미합니다. \n",
        "alpha = 0.025\n"
      ]
    },
    {
      "cell_type": "markdown",
      "metadata": {
        "id": "dfhX6BQeaTGs"
      },
      "source": [
        "다음 단계는 모델을 훈련시키는 것입니다. 이전처럼 훈련 과정을 실행하기 위해 `model.train` 함수를 사용하게 될 것입니다. Doc2vec 모델을 훈련하는 방법에 대한 자세한 정보는 [문서](https://radimrehurek.com/gensim/models/doc2vec.html) 를 참조하십시오."
      ]
    },
    {
      "cell_type": "code",
      "execution_count": null,
      "metadata": {
        "colab": {
          "base_uri": "https://localhost:8080/"
        },
        "id": "h7ScV7f0aTGs",
        "outputId": "e226e5a2-e46b-4908-85e3-98defa6964a2"
      },
      "outputs": [
        {
          "name": "stderr",
          "output_type": "stream",
          "text": [
            "/usr/local/lib/python3.9/site-packages/gensim/models/doc2vec.py:574: UserWarning: The parameter `size` is deprecated, will be removed in 4.0.0, use `vector_size` instead.\n",
            "  warnings.warn(\"The parameter `size` is deprecated, will be removed in 4.0.0, use `vector_size` instead.\")\n",
            "/usr/local/lib/python3.9/site-packages/gensim/models/base_any2vec.py:742: UserWarning: C extension not loaded, training will be slow. Install a C compiler and reinstall gensim for fast training.\n",
            "  warnings.warn(\n"
          ]
        },
        {
          "name": "stdout",
          "output_type": "stream",
          "text": [
            "iteration 0\n",
            "iteration 1\n",
            "iteration 2\n",
            "iteration 3\n",
            "iteration 4\n",
            "iteration 5\n",
            "iteration 6\n",
            "iteration 7\n",
            "iteration 8\n",
            "iteration 9\n",
            "iteration 10\n",
            "iteration 11\n",
            "iteration 12\n",
            "iteration 13\n",
            "iteration 14\n",
            "iteration 15\n",
            "iteration 16\n",
            "iteration 17\n",
            "iteration 18\n",
            "iteration 19\n",
            "iteration 20\n",
            "iteration 21\n",
            "iteration 22\n",
            "iteration 23\n",
            "iteration 24\n",
            "iteration 25\n",
            "iteration 26\n",
            "iteration 27\n",
            "iteration 28\n",
            "iteration 29\n",
            "iteration 30\n",
            "iteration 31\n",
            "iteration 32\n",
            "iteration 33\n",
            "iteration 34\n",
            "iteration 35\n",
            "iteration 36\n",
            "iteration 37\n",
            "iteration 38\n",
            "iteration 39\n",
            "iteration 40\n",
            "iteration 41\n",
            "iteration 42\n",
            "iteration 43\n",
            "iteration 44\n",
            "iteration 45\n",
            "iteration 46\n",
            "iteration 47\n",
            "iteration 48\n",
            "iteration 49\n",
            "iteration 50\n",
            "iteration 51\n",
            "iteration 52\n",
            "iteration 53\n",
            "iteration 54\n",
            "iteration 55\n",
            "iteration 56\n",
            "iteration 57\n",
            "iteration 58\n",
            "iteration 59\n",
            "iteration 60\n",
            "iteration 61\n",
            "iteration 62\n",
            "iteration 63\n",
            "iteration 64\n",
            "iteration 65\n",
            "iteration 66\n",
            "iteration 67\n",
            "iteration 68\n",
            "iteration 69\n",
            "iteration 70\n",
            "iteration 71\n",
            "iteration 72\n",
            "iteration 73\n",
            "iteration 74\n",
            "iteration 75\n",
            "iteration 76\n",
            "iteration 77\n",
            "iteration 78\n",
            "iteration 79\n",
            "iteration 80\n",
            "iteration 81\n",
            "iteration 82\n",
            "iteration 83\n",
            "iteration 84\n",
            "iteration 85\n",
            "iteration 86\n",
            "iteration 87\n",
            "iteration 88\n",
            "iteration 89\n",
            "iteration 90\n",
            "iteration 91\n",
            "iteration 92\n",
            "iteration 93\n",
            "iteration 94\n",
            "iteration 95\n",
            "iteration 96\n",
            "iteration 97\n",
            "iteration 98\n",
            "iteration 99\n",
            "Model Saved\n"
          ]
        }
      ],
      "source": [
        "model = Doc2Vec(size =vec_size,\n",
        "                alpha=alpha, \n",
        "                min_alpha=0.00025,\n",
        "                min_count=1,\n",
        "                dm =1)\n",
        "  \n",
        "model.build_vocab(tagged_data)\n",
        "\n",
        "for epoch in range(max_epochs):\n",
        "    print('iteration {0}'.format(epoch))\n",
        "    model.train(tagged_data, # 여기에 사용할 태그가 지정된 데이터\n",
        "                total_examples=model.corpus_count,\n",
        "                epochs=100)\n",
        "    # 학습 비율을 줄입니다\n",
        "    model.alpha -= 0.0002\n",
        "    # 학습 비율을 고정합니다.\n",
        "    model.min_alpha = model.alpha\n",
        "\n",
        "model.save(\"d2v.model\")\n",
        "print(\"Model Saved\")\n"
      ]
    },
    {
      "cell_type": "markdown",
      "metadata": {
        "id": "8THTIyMhaTGs"
      },
      "source": [
        "### doc2vec 모델 평가"
      ]
    },
    {
      "cell_type": "code",
      "execution_count": null,
      "metadata": {
        "id": "rc2d1J9-aTGs"
      },
      "outputs": [],
      "source": [
        "from gensim.models.doc2vec import Doc2Vec\n",
        "model= Doc2Vec.load(\"d2v.model\")"
      ]
    },
    {
      "cell_type": "code",
      "execution_count": null,
      "metadata": {
        "id": "iH3JR16OaTGs"
      },
      "outputs": [],
      "source": [
        "test_data = word_tokenize(\"How much is the price?\".lower())"
      ]
    },
    {
      "cell_type": "markdown",
      "metadata": {
        "id": "ImHFLBeFaTGs"
      },
      "source": [
        "`model.infer_vector` 함수를 사용하여 문서와 관련된 벡터를 추론할 수 있습니다. 그런 다음`most_similar` 함수를 사용하여 우리가 만든 벡터와 가장 유사한 벡터를 찾을 수 있습니다. 결과는 어떻습니까?"
      ]
    },
    {
      "cell_type": "code",
      "execution_count": null,
      "metadata": {
        "colab": {
          "base_uri": "https://localhost:8080/"
        },
        "id": "tHtGjgCtaTGt",
        "outputId": "c21a88e8-fdab-4470-dd7a-8ffc7ec69d04"
      },
      "outputs": [
        {
          "name": "stdout",
          "output_type": "stream",
          "text": [
            "V1_infer [ 0.18959235 -0.17265117 -0.50831604 -0.5314289  -0.32716885  0.34527382\n",
            "  0.00485731 -0.22845696 -0.00368862 -0.10513355 -0.25223073 -0.5042802\n",
            "  0.06381354  0.6570172   0.02411587  0.09579687  0.50338817  0.3892297\n",
            "  0.0077134  -0.3626271 ]\n"
          ]
        }
      ],
      "source": [
        "v1 = model.infer_vector(test_data)\n",
        "print(\"V1_infer\", v1)"
      ]
    },
    {
      "cell_type": "code",
      "execution_count": null,
      "metadata": {
        "colab": {
          "base_uri": "https://localhost:8080/"
        },
        "id": "6jcvVT6maTGt",
        "outputId": "8497571d-346f-42ae-f2d8-05c4f8b21cf7"
      },
      "outputs": [
        {
          "name": "stdout",
          "output_type": "stream",
          "text": [
            "[('1', 0.6910728216171265), ('0', 0.6740983724594116), ('43', 0.6551140546798706), ('5', 0.6510010361671448)]\n"
          ]
        }
      ],
      "source": [
        "similar_doc = model.docvecs.most_similar(positive = [v1], topn = 4) #positive is an attribute that shows positive correlation first followed by the correlation value\n",
        "print(similar_doc)"
      ]
    },
    {
      "cell_type": "code",
      "execution_count": null,
      "metadata": {
        "colab": {
          "base_uri": "https://localhost:8080/"
        },
        "id": "K5RVlbzkaTGt",
        "outputId": "3003c008-66f6-46d5-e1e8-3d1f1d283c92"
      },
      "outputs": [
        {
          "data": {
            "text/plain": [
              "TaggedDocument(words=['how', 'old', 'is', 'this', 'establishment', '?'], tags=['1'])"
            ]
          },
          "execution_count": 29,
          "metadata": {},
          "output_type": "execute_result"
        }
      ],
      "source": [
        "num,_ = similar_doc[0]\n",
        "num = int(num)\n",
        "tagged_data[num]\n"
      ]
    },
    {
      "cell_type": "markdown",
      "metadata": {
        "id": "6nyV8stPaTGu"
      },
      "source": [
        "이전 코드 블록의 출력에서 이 모델이 생각했던 것 만큼 효과적이지 않다는 것이 분명합니다. 이 모델이 성공하기를 기대했지만 실패한 이유가 있습니까?"
      ]
    },
    {
      "cell_type": "markdown",
      "metadata": {
        "id": "IF3_3KTWaTGu"
      },
      "source": [
        "자세한 내용을 보려면 이 [링크](https://stackoverflow.com/questions/58206571/doc2vec-find-the-similar-sentence) 를 클릭하십시오. 이 문제의 요지는 다음과 같습니다.\n",
        "\n",
        "> Doc2Vec는 장난감 크기(toy-size)의 데이터셋에서 좋은 결과를 얻을 수 없으므로, 더 많은 데이터를 사용하기 전까지는 의미 있는 결과를 기대해서는 안 됩니다."
      ]
    },
    {
      "cell_type": "markdown",
      "metadata": {
        "id": "JkxnczmCaTGu"
      },
      "source": [
        "### 사전 학습된 doc2vec 사용\n",
        "\n",
        "따라서 인터넷에서 다운로드한 사전 검증된 모델을 사용하여 사용 사례를 최적화해 보겠습니다. The 우리가 취득 한 모델은 관련 언론 뉴스에 대한 훈련을 받았으며  [여기](https://github.com/jhlau/doc2vec) 서 다운로드 할 수 있습니다.\n",
        "\n",
        "모델을 로드하고 다시 평가해 보겠습니다."
      ]
    },
    {
      "cell_type": "code",
      "execution_count": null,
      "metadata": {
        "id": "OwYkOiukaTGu",
        "outputId": "d48e3769-7e99-4c5e-dac3-b42359d90bb2"
      },
      "outputs": [
        {
          "name": "stderr",
          "output_type": "stream",
          "text": [
            "/usr/local/lib/python3.9/site-packages/gensim/models/base_any2vec.py:742: UserWarning: C extension not loaded, training will be slow. Install a C compiler and reinstall gensim for fast training.\n",
            "  warnings.warn(\n"
          ]
        }
      ],
      "source": [
        "model= Doc2Vec.load(os.getcwd()+r\"//doc2vec.bin\")"
      ]
    },
    {
      "cell_type": "code",
      "execution_count": null,
      "metadata": {
        "id": "x3oHXA5zaTGu"
      },
      "outputs": [],
      "source": [
        "test_data = word_tokenize(\"How much is the price?\".lower())"
      ]
    },
    {
      "cell_type": "code",
      "execution_count": null,
      "metadata": {
        "colab": {
          "base_uri": "https://localhost:8080/"
        },
        "id": "hkRhAtmEaTGu",
        "outputId": "7b5ccc32-2dab-470d-9ef6-ba2d7cd9820a"
      },
      "outputs": [
        {
          "name": "stdout",
          "output_type": "stream",
          "text": [
            "V1_infer [ 4.60473672e-02 -9.25778151e-02  1.22832671e-01 -5.60536096e-03\n",
            "  5.26074693e-02  1.24519899e-01 -2.00975761e-01 -1.62896454e-01\n",
            "  9.99991074e-02  5.97866215e-02  1.74255311e-01  9.48549360e-02\n",
            " -1.18565969e-01 -1.33774146e-01 -1.82668343e-01  1.23729721e-01\n",
            " -1.97252646e-01  8.74750391e-02  8.41238629e-03 -4.60753031e-02\n",
            " -2.32290760e-01 -4.35877219e-02  6.09210692e-02  5.08633032e-02\n",
            "  8.38023350e-02 -2.17360899e-01 -5.94435558e-02 -1.57292366e-01\n",
            " -1.06905878e-01  8.49953443e-02 -1.76948041e-01 -2.55078189e-02\n",
            " -1.07332952e-02  4.11563814e-02  8.40406939e-02  5.37017807e-02\n",
            "  1.10451886e-02 -6.28721192e-02  3.26555111e-02 -1.00547835e-01\n",
            "  2.39456724e-02  2.79271323e-02  2.07122236e-01  1.68228015e-01\n",
            " -1.41140565e-01 -1.82071611e-01  8.85062367e-02  5.65201901e-02\n",
            " -7.37002343e-02  7.73108304e-02 -1.51274905e-01 -1.38922548e-02\n",
            "  2.80475169e-02  1.51481908e-02 -6.61111847e-02 -1.38444677e-01\n",
            "  2.07313836e-01  5.03238700e-02  8.42533484e-02 -1.57850832e-01\n",
            "  7.32915401e-02  2.85820360e-03 -1.25601158e-01  1.67741120e-01\n",
            "  1.96947783e-01  8.23366791e-02 -1.58569366e-01 -2.49925911e-01\n",
            "  2.60158688e-01 -1.85818353e-03 -1.20871164e-01  1.48461401e-01\n",
            " -7.32935444e-02 -1.10408939e-01 -1.47554517e-01  2.83358861e-02\n",
            "  4.10403088e-02  2.03009754e-01 -2.32765421e-01  9.89298616e-03\n",
            "  1.25155121e-01 -2.18225762e-01  2.29035318e-02 -1.51781663e-01\n",
            " -6.15860708e-02  6.88822493e-02  5.80503866e-02 -1.38873637e-01\n",
            "  4.65687253e-02 -9.42926183e-02 -2.68962421e-02 -1.30125374e-01\n",
            " -1.41422868e-01  1.77384511e-01  1.00084029e-01 -6.02107272e-02\n",
            "  1.45420775e-01 -4.07692008e-02 -2.39857417e-02 -4.03199755e-02\n",
            " -1.12130262e-01  3.84779349e-02  8.32057670e-02 -2.63772160e-02\n",
            "  2.03628596e-02 -6.61204159e-02  5.96818142e-02  8.27209577e-02\n",
            " -6.43615332e-03  1.61529556e-01 -6.16238676e-02 -1.74630776e-01\n",
            "  1.74794480e-01 -6.96667433e-02  5.70909232e-02 -1.41961891e-02\n",
            " -3.06041967e-02  1.02755532e-01 -3.16289812e-01  3.19332480e-01\n",
            " -1.43233418e-01  1.08743384e-01 -2.51926258e-02 -1.26529023e-01\n",
            " -1.08245827e-01 -3.89694199e-02  1.69323385e-02  2.26445068e-02\n",
            " -7.87979737e-03 -1.13758314e-02 -3.90849300e-02 -6.67706132e-02\n",
            "  2.60228608e-02 -1.08738676e-01 -1.51541308e-01  6.69348389e-02\n",
            " -8.97386596e-02 -9.28852707e-02 -2.13396668e-01 -3.87200974e-02\n",
            "  2.60526109e-02  1.65688340e-02  1.87246203e-02 -6.87837452e-02\n",
            "  1.09136127e-01  4.38960530e-02  1.19664632e-01 -1.06716692e-01\n",
            " -1.14572264e-01  2.05328628e-01 -7.97501281e-02  3.43139805e-02\n",
            "  1.32370189e-01  1.66052297e-01 -1.02426156e-01 -1.25375763e-01\n",
            " -1.93968434e-02 -1.05811410e-01 -4.12072651e-02 -1.10830143e-01\n",
            " -7.75868027e-03  6.47950321e-02 -7.16897026e-02  4.92573194e-02\n",
            " -9.90534946e-02 -4.27424163e-03 -2.91438371e-01 -2.21839976e-02\n",
            "  3.59123759e-02  4.77660298e-02 -2.30415583e-01 -1.93400592e-01\n",
            " -2.38413829e-02 -1.30088672e-01  1.86764747e-02  8.79199728e-02\n",
            " -1.56592533e-01 -1.25316717e-02 -1.19637243e-01 -7.03596920e-02\n",
            "  9.18713808e-02  1.14511177e-02 -1.44024789e-02  4.58806902e-02\n",
            "  3.94089036e-02 -1.08358741e-01 -2.01488449e-03 -2.88398750e-02\n",
            "  5.97001910e-02 -4.99607297e-04  4.45251800e-02  1.07780313e-02\n",
            "  2.11624876e-02  3.05132195e-02 -3.68124209e-02  3.62201291e-03\n",
            "  1.46556729e-02 -2.48245254e-01  6.74462989e-02 -1.30206719e-01\n",
            "  1.91759579e-02  2.12887079e-01  3.03702448e-02  3.85273807e-02\n",
            "  1.39089927e-01 -6.05197670e-03 -1.42132327e-01  1.06941961e-01\n",
            "  3.48335803e-02 -9.91890803e-02 -2.42580827e-02  1.09802775e-01\n",
            " -1.07793584e-01  4.38803211e-02  2.94856187e-02 -8.20259973e-02\n",
            "  1.24661446e-01 -7.52976462e-02 -2.45702658e-02 -8.43850225e-02\n",
            "  8.62577409e-02 -1.69269338e-01 -2.05044940e-01  1.79513190e-02\n",
            " -1.21889628e-01  6.64447993e-02  1.00624502e-01 -1.23069122e-01\n",
            " -5.32068405e-03  2.80111271e-04  3.90540287e-02  7.18132034e-02\n",
            "  5.45806699e-02  3.56974788e-02  1.61923304e-01  2.46812217e-02\n",
            " -8.69544894e-02 -8.28678161e-02  3.29936408e-02  7.85282478e-02\n",
            " -1.17021777e-01 -1.76288523e-02  3.77036706e-02  1.00682527e-01\n",
            "  8.08998793e-02 -3.38462032e-02  2.74137557e-02  4.50120345e-02\n",
            "  2.84258218e-04 -1.22875847e-01  6.14820719e-02 -2.49325577e-02\n",
            "  6.91396222e-02  6.65852875e-02  9.65630040e-02 -2.88453456e-02\n",
            " -3.01199092e-04 -5.44677675e-02  1.73094705e-01 -1.13343971e-03\n",
            "  2.79676586e-01  1.09829888e-01 -1.81880325e-01  4.62744944e-02\n",
            " -1.43052042e-02 -6.15420006e-02 -1.33108139e-01  7.44821429e-02\n",
            " -4.72763553e-02 -2.58691590e-02 -5.93001582e-02  3.51080336e-02\n",
            "  1.33137211e-01  6.59248158e-02  1.12201413e-02 -9.14358720e-02\n",
            "  2.83784959e-02 -5.26406169e-02  1.32530928e-02 -1.00074463e-01\n",
            " -9.11257416e-02  1.09513335e-01  2.60782480e-01 -5.89617416e-02\n",
            "  2.50536293e-01  7.04712942e-02 -5.64520285e-02  1.51308323e-03\n",
            " -1.75583977e-02 -1.69538744e-02  4.08932641e-02 -2.18289405e-01\n",
            " -2.42158398e-02  7.49484301e-02  1.01435427e-02 -9.64059532e-02\n",
            " -1.26701474e-01  1.30519886e-02  1.50596602e-02 -1.02375962e-01]\n"
          ]
        }
      ],
      "source": [
        "v1 = model.infer_vector(test_data)\n",
        "print(\"V1_infer\", v1)"
      ]
    },
    {
      "cell_type": "code",
      "execution_count": null,
      "metadata": {
        "colab": {
          "base_uri": "https://localhost:8080/"
        },
        "id": "wen70awiaTGu",
        "outputId": "1c791631-02ea-4f0f-cee0-08f627ab0cb3"
      },
      "outputs": [
        {
          "name": "stdout",
          "output_type": "stream",
          "text": [
            "what is the price of one night stay in basic suite?\n",
            "[[0.68138516]]\n",
            "how old is this establishment?\n",
            "[[0.69684505]]\n",
            "what time is breakfast served?\n",
            "[[0.6306859]]\n",
            "what is the breakfast menu?\n",
            "[[0.714886]]\n",
            "what is the history behind this hotel or establishment?\n",
            "[[0.60316193]]\n",
            "how many rooms are there in this hotel?\n",
            "[[0.60242194]]\n",
            "what are the types of rooms or suites offered by the hotel?\n",
            "[[0.5820018]]\n",
            "what is the name of the hotel?\n",
            "[[0.72328764]]\n",
            "is room service served 24 hours?\n",
            "[[0.46677023]]\n",
            "how do i call for room service?\n",
            "[[0.55820155]]\n",
            "are there any restaurants in the hotel?\n",
            "[[0.5394696]]\n",
            "how many floors are there in the hotel?\n",
            "[[0.62695587]]\n",
            "what is the price of one night stay at the mid-level suite?\n",
            "[[0.66304004]]\n",
            "what is the price of one night stay at the premium suite?\n",
            "[[0.66947365]]\n",
            "do you have tuxedo services?\n",
            "[[0.44583336]]\n",
            "do you have a laundry service?\n",
            "[[0.5216733]]\n",
            "what time do the restaurants open for dinner?\n",
            "[[0.5611314]]\n",
            "what are the near by tourist attractions?\n",
            "[[0.616261]]\n",
            "is there a spa in the hotel?\n",
            "[[0.5904058]]\n",
            "is there anywhere i can get a massage?\n",
            "[[0.5331752]]\n",
            "what time is the check in?\n",
            "[[0.6863094]]\n",
            "what time is the check out?\n",
            "[[0.71404725]]\n",
            "do you offer handicapped rooms?\n",
            "[[0.41881046]]\n",
            "is parking available at the hotel?\n",
            "[[0.63808435]]\n",
            "can i reserve a parking lot?\n",
            "[[0.49186382]]\n",
            "what are the reception opening hours?\n",
            "[[0.5861532]]\n",
            "can i also book breakfast online and what is the cost?\n",
            "[[0.6282339]]\n",
            "is it possible to book spa treatments online?\n",
            "[[0.54464364]]\n",
            "can i book tea time online?\n",
            "[[0.46366653]]\n",
            "can i bring my pet?\n",
            "[[0.4848671]]\n",
            "are the rates per person or per room?\n",
            "[[0.5460415]]\n",
            "why do the costs vary from day to day?\n",
            "[[0.6548088]]\n",
            "can i book two rooms of different categories?\n",
            "[[0.43102205]]\n",
            "can i book two rooms with different occupancy?\n",
            "[[0.39523757]]\n",
            "is wi-fi available at the hotel/in the room?\n",
            "[[0.6439486]]\n",
            "which size are the rooms?\n",
            "[[0.6378202]]\n",
            "can i reserve a table in a restaurant?\n",
            "[[0.48614758]]\n",
            "do you offer non-smoking rooms?\n",
            "[[0.45817155]]\n",
            "do you offer child rates?\n",
            "[[0.51327693]]\n",
            "can i use the spa area even if i am not staying in your hotel?\n",
            "[[0.44617736]]\n",
            "can i use the spa area after checking out?\n",
            "[[0.39388606]]\n",
            "do you offer hotel shuttles, for example, to the next airport or train station?\n",
            "[[0.49618378]]\n",
            "can i have breakfast/dinner even if i am not staying in your hotel?\n",
            "[[0.48162737]]\n",
            "are special requests, such as gluten-free meals or feather-free pillows, manageable?\n",
            "[[0.41917983]]\n",
            "i have bought a groupon-voucher, how can i redeem it in your hotel?\n",
            "[[0.57256675]]\n",
            "where can i get a copy of my invoice after departure?\n",
            "[[0.40491176]]\n",
            "what should i do, if i lost or forgot something in my room?\n",
            "[[0.52621126]]\n"
          ]
        }
      ],
      "source": [
        "for i in sent_tokens:\n",
        "    v2 = model.infer_vector(word_tokenize(i.lower()))\n",
        "    print(i)\n",
        "    print(cosine_similarity(v1.reshape(1, -1),v2.reshape(1, -1)))"
      ]
    },
    {
      "cell_type": "code",
      "execution_count": null,
      "metadata": {
        "id": "cGEBbf8eaTGu"
      },
      "outputs": [],
      "source": [
        "def calc_prob(v1, q):\n",
        "    probs = dict()\n",
        "    for i in q:\n",
        "        v2 = model.infer_vector(word_tokenize(i.lower()))\n",
        "        sim = cosine_similarity(v1.reshape(1, -1),v2.reshape(1, -1))\n",
        "        #print(i)\n",
        "        #print(sim)\n",
        "        probs[i] = sim[0][0]\n",
        "    sorted_d = dict( sorted(probs.items(), key=operator.itemgetter(1),reverse=True))\n",
        "    \n",
        "    return list(sorted_d.items())[0]"
      ]
    },
    {
      "cell_type": "code",
      "execution_count": null,
      "metadata": {
        "colab": {
          "base_uri": "https://localhost:8080/"
        },
        "id": "NFb4-p0faTGu",
        "outputId": "0cd58c0a-2388-412a-c85c-a0b58d65ba1f"
      },
      "outputs": [
        {
          "data": {
            "text/plain": [
              "('what is the breakfast menu?', 0.71236515)"
            ]
          },
          "execution_count": 42,
          "metadata": {},
          "output_type": "execute_result"
        }
      ],
      "source": [
        "calc_prob(v1, sent_tokens)"
      ]
    },
    {
      "cell_type": "markdown",
      "metadata": {
        "id": "ISG0dPL8aTGv"
      },
      "source": [
        "이 모델이 더 효과적인 것처럼 보이기 때문에, 우리의 챗봇에 통합해 봅시다."
      ]
    },
    {
      "cell_type": "code",
      "execution_count": null,
      "metadata": {
        "colab": {
          "base_uri": "https://localhost:8080/",
          "height": 565
        },
        "id": "S8JaMj8TaTGv",
        "outputId": "32ea27c9-eb69-4808-b6bc-fc6c6bbef947"
      },
      "outputs": [
        {
          "name": "stdout",
          "output_type": "stream",
          "text": [
            "Jane: My name is Jane. I will answer your queries about this hotel. If you want to exit, type Bye!\n",
            "bye\n",
            "Jane: Bye! take care..\n"
          ]
        }
      ],
      "source": [
        "flag=True\n",
        "print(\"Jane: My name is Jane. I will answer your queries about this hotel. If you want to exit, type Bye!\")\n",
        "while(flag==True):\n",
        "    user_response = input()\n",
        "    user_response=user_response.lower()\n",
        "    if(user_response!='bye'):\n",
        "        if(user_response=='thanks' or user_response=='thank you' ):\n",
        "            flag=False\n",
        "            print(\"Jane: You are welcome..\")\n",
        "        else:\n",
        "            if(greeting(user_response)!=None):\n",
        "                print(\"Jane: \"+greeting(user_response))\n",
        "\n",
        "            else:\n",
        "                print(\"Jane: \",end=\"\")\n",
        "                resp= calc_prob(model.infer_vector(word_tokenize(user_response)), sent_tokens)\n",
        "                print(res[resp[0]], )\n",
        "                print(' (With similarity of ',resp[1],')')\n",
        "\n",
        "    else:\n",
        "        flag=False\n",
        "        print(\"Jane: Bye! take care..\")"
      ]
    },
    {
      "cell_type": "markdown",
      "metadata": {
        "id": "g55PaQhWputU"
      },
      "source": [
        "**두 모델의 성능** 을 관찰한 후 다음과 같은 몇 가지 명확한 결론을 내릴 수 있습니다:\n",
        "\n",
        "1. Doc2vec 모델은 단어 간의 관계를 이해하기 위해 더 많은 데이터가 필요합니다. 그리고 사전 훈련된 모델을 사용한 후에도 코사인 유사성 모델에 비해 모델의 응답의 품질이 아직 부족합니다.\n",
        "2. 코사인 유사성 모델은 더 작고 잘 정의된 데이터 세트에서 더 잘 작동합니다. 이는 몇 가지 간단한 질문을 효과적으로 해결할 수 있지만 컨텍스트를 필요로 하는 복잡한 질문은 해결할 수 없다는 의미입니다."
      ]
    }
  ],
  "metadata": {
    "colab": {
      "provenance": [],
      "include_colab_link": true
    },
    "kernelspec": {
      "display_name": "Python 3 (ipykernel)",
      "language": "python",
      "name": "python3"
    },
    "language_info": {
      "codemirror_mode": {
        "name": "ipython",
        "version": 3
      },
      "file_extension": ".py",
      "mimetype": "text/x-python",
      "name": "python",
      "nbconvert_exporter": "python",
      "pygments_lexer": "ipython3",
      "version": "3.9.6"
    }
  },
  "nbformat": 4,
  "nbformat_minor": 0
}